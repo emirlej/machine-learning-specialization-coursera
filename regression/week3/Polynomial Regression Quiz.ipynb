{
 "cells": [
  {
   "cell_type": "code",
   "execution_count": 1,
   "metadata": {
    "collapsed": true
   },
   "outputs": [],
   "source": [
    "import pandas as pd\n",
    "import numpy as np\n",
    "import matplotlib.pyplot as plt\n",
    "import seaborn as sns\n",
    "\n",
    "from __future__ import division\n",
    "\n",
    "%matplotlib inline"
   ]
  },
  {
   "cell_type": "code",
   "execution_count": 2,
   "metadata": {
    "collapsed": true
   },
   "outputs": [],
   "source": [
    "dtype_dict = {'bathrooms':float, \n",
    "              'waterfront':int,\n",
    "              'sqft_above':int,\n",
    "              'sqft_living15':float,\n",
    "              'grade':int,\n",
    "              'yr_renovated':int,\n",
    "              'price':float,\n",
    "              'bedrooms':float,\n",
    "              'zipcode':str,\n",
    "              'long':float,\n",
    "              'sqft_lot15':float,\n",
    "              'sqft_living':float,\n",
    "              'floors':str,\n",
    "              'condition':int,\n",
    "              'lat':float,\n",
    "              'date':str,\n",
    "              'sqft_basement':int,\n",
    "              'yr_built':int, 'id':str, 'sqft_lot':int, 'view':int}"
   ]
  },
  {
   "cell_type": "code",
   "execution_count": 3,
   "metadata": {
    "collapsed": true
   },
   "outputs": [],
   "source": [
    "# Read in the data\n",
    "data_train = pd.read_csv('./data/wk3_kc_house_train_data.csv')"
   ]
  },
  {
   "cell_type": "code",
   "execution_count": 4,
   "metadata": {
    "collapsed": false
   },
   "outputs": [
    {
     "data": {
      "text/html": [
       "<div>\n",
       "<table border=\"1\" class=\"dataframe\">\n",
       "  <thead>\n",
       "    <tr style=\"text-align: right;\">\n",
       "      <th></th>\n",
       "      <th>id</th>\n",
       "      <th>date</th>\n",
       "      <th>price</th>\n",
       "      <th>bedrooms</th>\n",
       "      <th>bathrooms</th>\n",
       "      <th>sqft_living</th>\n",
       "      <th>sqft_lot</th>\n",
       "      <th>floors</th>\n",
       "      <th>waterfront</th>\n",
       "      <th>view</th>\n",
       "      <th>...</th>\n",
       "      <th>grade</th>\n",
       "      <th>sqft_above</th>\n",
       "      <th>sqft_basement</th>\n",
       "      <th>yr_built</th>\n",
       "      <th>yr_renovated</th>\n",
       "      <th>zipcode</th>\n",
       "      <th>lat</th>\n",
       "      <th>long</th>\n",
       "      <th>sqft_living15</th>\n",
       "      <th>sqft_lot15</th>\n",
       "    </tr>\n",
       "  </thead>\n",
       "  <tbody>\n",
       "    <tr>\n",
       "      <th>0</th>\n",
       "      <td>2487200875</td>\n",
       "      <td>20141209T000000</td>\n",
       "      <td>604000.0</td>\n",
       "      <td>4</td>\n",
       "      <td>3.00</td>\n",
       "      <td>1960</td>\n",
       "      <td>5000</td>\n",
       "      <td>1.0</td>\n",
       "      <td>0</td>\n",
       "      <td>0</td>\n",
       "      <td>...</td>\n",
       "      <td>7</td>\n",
       "      <td>1050</td>\n",
       "      <td>910</td>\n",
       "      <td>1965</td>\n",
       "      <td>0</td>\n",
       "      <td>98136</td>\n",
       "      <td>47.5208</td>\n",
       "      <td>-122.393</td>\n",
       "      <td>1360</td>\n",
       "      <td>5000</td>\n",
       "    </tr>\n",
       "    <tr>\n",
       "      <th>1</th>\n",
       "      <td>7237550310</td>\n",
       "      <td>20140512T000000</td>\n",
       "      <td>1225000.0</td>\n",
       "      <td>4</td>\n",
       "      <td>4.50</td>\n",
       "      <td>5420</td>\n",
       "      <td>101930</td>\n",
       "      <td>1.0</td>\n",
       "      <td>0</td>\n",
       "      <td>0</td>\n",
       "      <td>...</td>\n",
       "      <td>11</td>\n",
       "      <td>3890</td>\n",
       "      <td>1530</td>\n",
       "      <td>2001</td>\n",
       "      <td>0</td>\n",
       "      <td>98053</td>\n",
       "      <td>47.6561</td>\n",
       "      <td>-122.005</td>\n",
       "      <td>4760</td>\n",
       "      <td>101930</td>\n",
       "    </tr>\n",
       "    <tr>\n",
       "      <th>2</th>\n",
       "      <td>9212900260</td>\n",
       "      <td>20140527T000000</td>\n",
       "      <td>468000.0</td>\n",
       "      <td>2</td>\n",
       "      <td>1.00</td>\n",
       "      <td>1160</td>\n",
       "      <td>6000</td>\n",
       "      <td>1.0</td>\n",
       "      <td>0</td>\n",
       "      <td>0</td>\n",
       "      <td>...</td>\n",
       "      <td>7</td>\n",
       "      <td>860</td>\n",
       "      <td>300</td>\n",
       "      <td>1942</td>\n",
       "      <td>0</td>\n",
       "      <td>98115</td>\n",
       "      <td>47.6900</td>\n",
       "      <td>-122.292</td>\n",
       "      <td>1330</td>\n",
       "      <td>6000</td>\n",
       "    </tr>\n",
       "    <tr>\n",
       "      <th>3</th>\n",
       "      <td>114101516</td>\n",
       "      <td>20140528T000000</td>\n",
       "      <td>310000.0</td>\n",
       "      <td>3</td>\n",
       "      <td>1.00</td>\n",
       "      <td>1430</td>\n",
       "      <td>19901</td>\n",
       "      <td>1.5</td>\n",
       "      <td>0</td>\n",
       "      <td>0</td>\n",
       "      <td>...</td>\n",
       "      <td>7</td>\n",
       "      <td>1430</td>\n",
       "      <td>0</td>\n",
       "      <td>1927</td>\n",
       "      <td>0</td>\n",
       "      <td>98028</td>\n",
       "      <td>47.7558</td>\n",
       "      <td>-122.229</td>\n",
       "      <td>1780</td>\n",
       "      <td>12697</td>\n",
       "    </tr>\n",
       "    <tr>\n",
       "      <th>4</th>\n",
       "      <td>6054650070</td>\n",
       "      <td>20141007T000000</td>\n",
       "      <td>400000.0</td>\n",
       "      <td>3</td>\n",
       "      <td>1.75</td>\n",
       "      <td>1370</td>\n",
       "      <td>9680</td>\n",
       "      <td>1.0</td>\n",
       "      <td>0</td>\n",
       "      <td>0</td>\n",
       "      <td>...</td>\n",
       "      <td>7</td>\n",
       "      <td>1370</td>\n",
       "      <td>0</td>\n",
       "      <td>1977</td>\n",
       "      <td>0</td>\n",
       "      <td>98074</td>\n",
       "      <td>47.6127</td>\n",
       "      <td>-122.045</td>\n",
       "      <td>1370</td>\n",
       "      <td>10208</td>\n",
       "    </tr>\n",
       "  </tbody>\n",
       "</table>\n",
       "<p>5 rows × 21 columns</p>\n",
       "</div>"
      ],
      "text/plain": [
       "           id             date      price  bedrooms  bathrooms  sqft_living  \\\n",
       "0  2487200875  20141209T000000   604000.0         4       3.00         1960   \n",
       "1  7237550310  20140512T000000  1225000.0         4       4.50         5420   \n",
       "2  9212900260  20140527T000000   468000.0         2       1.00         1160   \n",
       "3   114101516  20140528T000000   310000.0         3       1.00         1430   \n",
       "4  6054650070  20141007T000000   400000.0         3       1.75         1370   \n",
       "\n",
       "   sqft_lot  floors  waterfront  view     ...      grade  sqft_above  \\\n",
       "0      5000     1.0           0     0     ...          7        1050   \n",
       "1    101930     1.0           0     0     ...         11        3890   \n",
       "2      6000     1.0           0     0     ...          7         860   \n",
       "3     19901     1.5           0     0     ...          7        1430   \n",
       "4      9680     1.0           0     0     ...          7        1370   \n",
       "\n",
       "   sqft_basement  yr_built  yr_renovated  zipcode      lat     long  \\\n",
       "0            910      1965             0    98136  47.5208 -122.393   \n",
       "1           1530      2001             0    98053  47.6561 -122.005   \n",
       "2            300      1942             0    98115  47.6900 -122.292   \n",
       "3              0      1927             0    98028  47.7558 -122.229   \n",
       "4              0      1977             0    98074  47.6127 -122.045   \n",
       "\n",
       "   sqft_living15  sqft_lot15  \n",
       "0           1360        5000  \n",
       "1           4760      101930  \n",
       "2           1330        6000  \n",
       "3           1780       12697  \n",
       "4           1370       10208  \n",
       "\n",
       "[5 rows x 21 columns]"
      ]
     },
     "execution_count": 4,
     "metadata": {},
     "output_type": "execute_result"
    }
   ],
   "source": [
    "data_train.head()"
   ]
  },
  {
   "cell_type": "code",
   "execution_count": 5,
   "metadata": {
    "collapsed": false
   },
   "outputs": [
    {
     "data": {
      "text/html": [
       "<div>\n",
       "<table border=\"1\" class=\"dataframe\">\n",
       "  <thead>\n",
       "    <tr style=\"text-align: right;\">\n",
       "      <th></th>\n",
       "      <th>bedrooms</th>\n",
       "      <th>bathrooms</th>\n",
       "    </tr>\n",
       "  </thead>\n",
       "  <tbody>\n",
       "    <tr>\n",
       "      <th>0</th>\n",
       "      <td>16</td>\n",
       "      <td>9.0000</td>\n",
       "    </tr>\n",
       "    <tr>\n",
       "      <th>1</th>\n",
       "      <td>16</td>\n",
       "      <td>20.2500</td>\n",
       "    </tr>\n",
       "    <tr>\n",
       "      <th>2</th>\n",
       "      <td>4</td>\n",
       "      <td>1.0000</td>\n",
       "    </tr>\n",
       "    <tr>\n",
       "      <th>3</th>\n",
       "      <td>9</td>\n",
       "      <td>1.0000</td>\n",
       "    </tr>\n",
       "    <tr>\n",
       "      <th>4</th>\n",
       "      <td>9</td>\n",
       "      <td>3.0625</td>\n",
       "    </tr>\n",
       "  </tbody>\n",
       "</table>\n",
       "</div>"
      ],
      "text/plain": [
       "   bedrooms  bathrooms\n",
       "0        16     9.0000\n",
       "1        16    20.2500\n",
       "2         4     1.0000\n",
       "3         9     1.0000\n",
       "4         9     3.0625"
      ]
     },
     "execution_count": 5,
     "metadata": {},
     "output_type": "execute_result"
    }
   ],
   "source": [
    "# Testing making polynomial columns\n",
    "features = ['bedrooms', 'bathrooms']\n",
    "test = data_train[features].apply(lambda x: x**2)\n",
    "test.head()"
   ]
  },
  {
   "cell_type": "code",
   "execution_count": 6,
   "metadata": {
    "collapsed": false
   },
   "outputs": [
    {
     "data": {
      "text/html": [
       "<div>\n",
       "<table border=\"1\" class=\"dataframe\">\n",
       "  <thead>\n",
       "    <tr style=\"text-align: right;\">\n",
       "      <th></th>\n",
       "      <th>power_1</th>\n",
       "      <th>power_2</th>\n",
       "      <th>power_3</th>\n",
       "      <th>power_4</th>\n",
       "    </tr>\n",
       "  </thead>\n",
       "  <tbody>\n",
       "    <tr>\n",
       "      <th>0</th>\n",
       "      <td>16</td>\n",
       "      <td>256</td>\n",
       "      <td>4096</td>\n",
       "      <td>65536</td>\n",
       "    </tr>\n",
       "    <tr>\n",
       "      <th>1</th>\n",
       "      <td>16</td>\n",
       "      <td>256</td>\n",
       "      <td>4096</td>\n",
       "      <td>65536</td>\n",
       "    </tr>\n",
       "    <tr>\n",
       "      <th>2</th>\n",
       "      <td>4</td>\n",
       "      <td>16</td>\n",
       "      <td>64</td>\n",
       "      <td>256</td>\n",
       "    </tr>\n",
       "    <tr>\n",
       "      <th>3</th>\n",
       "      <td>9</td>\n",
       "      <td>81</td>\n",
       "      <td>729</td>\n",
       "      <td>6561</td>\n",
       "    </tr>\n",
       "    <tr>\n",
       "      <th>4</th>\n",
       "      <td>9</td>\n",
       "      <td>81</td>\n",
       "      <td>729</td>\n",
       "      <td>6561</td>\n",
       "    </tr>\n",
       "  </tbody>\n",
       "</table>\n",
       "</div>"
      ],
      "text/plain": [
       "   power_1  power_2  power_3  power_4\n",
       "0       16      256     4096    65536\n",
       "1       16      256     4096    65536\n",
       "2        4       16       64      256\n",
       "3        9       81      729     6561\n",
       "4        9       81      729     6561"
      ]
     },
     "execution_count": 6,
     "metadata": {},
     "output_type": "execute_result"
    }
   ],
   "source": [
    "def polynomial_dataframe(data, feature, output, degree):\n",
    "    \"\"\"\n",
    "    Function which accepts a feature array and creates a dataframe\n",
    "    with first column equal to the feature and the remaining columns\n",
    "    to increasing integer powers up to degree.\n",
    "    \"\"\"\n",
    "    \n",
    "    assert degree >= 1 # Degree must be at least one\n",
    "    \n",
    "    # Initialize dataframe\n",
    "    poly_df = pd.DataFrame()\n",
    "    \n",
    "    # Add the feature array to dataframe\n",
    "    poly_df['power_1'] = data[feature]\n",
    "    \n",
    "    # Loop over the degrees\n",
    "    if degree > 1:\n",
    "        for power in range(2, degree+1):\n",
    "            # Name of poly. column\n",
    "            name = 'power_' + str(power)\n",
    "            # Create the column\n",
    "            poly_df[name] = poly_df['power_1'].apply(lambda x: x**power)\n",
    "\n",
    "    # Add the output column if assigned\n",
    "    if output:\n",
    "        poly_df[output] = data[output]\n",
    "    \n",
    "    return poly_df      \n",
    "\n",
    "# Testing\n",
    "bedroom_poly_test = polynomial_dataframe(test, 'bedrooms', None , 4)\n",
    "bedroom_poly_test.head()"
   ]
  },
  {
   "cell_type": "code",
   "execution_count": 7,
   "metadata": {
    "collapsed": true
   },
   "outputs": [],
   "source": [
    "# Read in sales data\n",
    "sales = pd.read_csv('./data/kc_house_data.csv')\n",
    "sales = sales.sort_values(['sqft_living', 'price'])"
   ]
  },
  {
   "cell_type": "code",
   "execution_count": 8,
   "metadata": {
    "collapsed": false
   },
   "outputs": [
    {
     "data": {
      "text/html": [
       "<div>\n",
       "<table border=\"1\" class=\"dataframe\">\n",
       "  <thead>\n",
       "    <tr style=\"text-align: right;\">\n",
       "      <th></th>\n",
       "      <th>id</th>\n",
       "      <th>date</th>\n",
       "      <th>price</th>\n",
       "      <th>bedrooms</th>\n",
       "      <th>bathrooms</th>\n",
       "      <th>sqft_living</th>\n",
       "      <th>sqft_lot</th>\n",
       "      <th>floors</th>\n",
       "      <th>waterfront</th>\n",
       "      <th>view</th>\n",
       "      <th>...</th>\n",
       "      <th>grade</th>\n",
       "      <th>sqft_above</th>\n",
       "      <th>sqft_basement</th>\n",
       "      <th>yr_built</th>\n",
       "      <th>yr_renovated</th>\n",
       "      <th>zipcode</th>\n",
       "      <th>lat</th>\n",
       "      <th>long</th>\n",
       "      <th>sqft_living15</th>\n",
       "      <th>sqft_lot15</th>\n",
       "    </tr>\n",
       "  </thead>\n",
       "  <tbody>\n",
       "    <tr>\n",
       "      <th>19452</th>\n",
       "      <td>3980300371</td>\n",
       "      <td>20140926T000000</td>\n",
       "      <td>142000.0</td>\n",
       "      <td>0</td>\n",
       "      <td>0.00</td>\n",
       "      <td>290</td>\n",
       "      <td>20875</td>\n",
       "      <td>1.0</td>\n",
       "      <td>0</td>\n",
       "      <td>0</td>\n",
       "      <td>...</td>\n",
       "      <td>1</td>\n",
       "      <td>290</td>\n",
       "      <td>0</td>\n",
       "      <td>1963</td>\n",
       "      <td>0</td>\n",
       "      <td>98024</td>\n",
       "      <td>47.5308</td>\n",
       "      <td>-121.888</td>\n",
       "      <td>1620</td>\n",
       "      <td>22850</td>\n",
       "    </tr>\n",
       "    <tr>\n",
       "      <th>15381</th>\n",
       "      <td>2856101479</td>\n",
       "      <td>20140701T000000</td>\n",
       "      <td>276000.0</td>\n",
       "      <td>1</td>\n",
       "      <td>0.75</td>\n",
       "      <td>370</td>\n",
       "      <td>1801</td>\n",
       "      <td>1.0</td>\n",
       "      <td>0</td>\n",
       "      <td>0</td>\n",
       "      <td>...</td>\n",
       "      <td>5</td>\n",
       "      <td>370</td>\n",
       "      <td>0</td>\n",
       "      <td>1923</td>\n",
       "      <td>0</td>\n",
       "      <td>98117</td>\n",
       "      <td>47.6778</td>\n",
       "      <td>-122.389</td>\n",
       "      <td>1340</td>\n",
       "      <td>5000</td>\n",
       "    </tr>\n",
       "    <tr>\n",
       "      <th>860</th>\n",
       "      <td>1723049033</td>\n",
       "      <td>20140620T000000</td>\n",
       "      <td>245000.0</td>\n",
       "      <td>1</td>\n",
       "      <td>0.75</td>\n",
       "      <td>380</td>\n",
       "      <td>15000</td>\n",
       "      <td>1.0</td>\n",
       "      <td>0</td>\n",
       "      <td>0</td>\n",
       "      <td>...</td>\n",
       "      <td>5</td>\n",
       "      <td>380</td>\n",
       "      <td>0</td>\n",
       "      <td>1963</td>\n",
       "      <td>0</td>\n",
       "      <td>98168</td>\n",
       "      <td>47.4810</td>\n",
       "      <td>-122.323</td>\n",
       "      <td>1170</td>\n",
       "      <td>15000</td>\n",
       "    </tr>\n",
       "    <tr>\n",
       "      <th>18379</th>\n",
       "      <td>1222029077</td>\n",
       "      <td>20141029T000000</td>\n",
       "      <td>265000.0</td>\n",
       "      <td>0</td>\n",
       "      <td>0.75</td>\n",
       "      <td>384</td>\n",
       "      <td>213444</td>\n",
       "      <td>1.0</td>\n",
       "      <td>0</td>\n",
       "      <td>0</td>\n",
       "      <td>...</td>\n",
       "      <td>4</td>\n",
       "      <td>384</td>\n",
       "      <td>0</td>\n",
       "      <td>2003</td>\n",
       "      <td>0</td>\n",
       "      <td>98070</td>\n",
       "      <td>47.4177</td>\n",
       "      <td>-122.491</td>\n",
       "      <td>1920</td>\n",
       "      <td>224341</td>\n",
       "    </tr>\n",
       "    <tr>\n",
       "      <th>4868</th>\n",
       "      <td>6896300380</td>\n",
       "      <td>20141002T000000</td>\n",
       "      <td>228000.0</td>\n",
       "      <td>0</td>\n",
       "      <td>1.00</td>\n",
       "      <td>390</td>\n",
       "      <td>5900</td>\n",
       "      <td>1.0</td>\n",
       "      <td>0</td>\n",
       "      <td>0</td>\n",
       "      <td>...</td>\n",
       "      <td>4</td>\n",
       "      <td>390</td>\n",
       "      <td>0</td>\n",
       "      <td>1953</td>\n",
       "      <td>0</td>\n",
       "      <td>98118</td>\n",
       "      <td>47.5260</td>\n",
       "      <td>-122.261</td>\n",
       "      <td>2170</td>\n",
       "      <td>6000</td>\n",
       "    </tr>\n",
       "  </tbody>\n",
       "</table>\n",
       "<p>5 rows × 21 columns</p>\n",
       "</div>"
      ],
      "text/plain": [
       "               id             date     price  bedrooms  bathrooms  \\\n",
       "19452  3980300371  20140926T000000  142000.0         0       0.00   \n",
       "15381  2856101479  20140701T000000  276000.0         1       0.75   \n",
       "860    1723049033  20140620T000000  245000.0         1       0.75   \n",
       "18379  1222029077  20141029T000000  265000.0         0       0.75   \n",
       "4868   6896300380  20141002T000000  228000.0         0       1.00   \n",
       "\n",
       "       sqft_living  sqft_lot  floors  waterfront  view     ...      grade  \\\n",
       "19452          290     20875     1.0           0     0     ...          1   \n",
       "15381          370      1801     1.0           0     0     ...          5   \n",
       "860            380     15000     1.0           0     0     ...          5   \n",
       "18379          384    213444     1.0           0     0     ...          4   \n",
       "4868           390      5900     1.0           0     0     ...          4   \n",
       "\n",
       "       sqft_above  sqft_basement  yr_built  yr_renovated  zipcode      lat  \\\n",
       "19452         290              0      1963             0    98024  47.5308   \n",
       "15381         370              0      1923             0    98117  47.6778   \n",
       "860           380              0      1963             0    98168  47.4810   \n",
       "18379         384              0      2003             0    98070  47.4177   \n",
       "4868          390              0      1953             0    98118  47.5260   \n",
       "\n",
       "          long  sqft_living15  sqft_lot15  \n",
       "19452 -121.888           1620       22850  \n",
       "15381 -122.389           1340        5000  \n",
       "860   -122.323           1170       15000  \n",
       "18379 -122.491           1920      224341  \n",
       "4868  -122.261           2170        6000  \n",
       "\n",
       "[5 rows x 21 columns]"
      ]
     },
     "execution_count": 8,
     "metadata": {},
     "output_type": "execute_result"
    }
   ],
   "source": [
    "sales.head() # Sort looks OK"
   ]
  },
  {
   "cell_type": "code",
   "execution_count": 9,
   "metadata": {
    "collapsed": false
   },
   "outputs": [
    {
     "data": {
      "text/html": [
       "<div>\n",
       "<table border=\"1\" class=\"dataframe\">\n",
       "  <thead>\n",
       "    <tr style=\"text-align: right;\">\n",
       "      <th></th>\n",
       "      <th>power_1</th>\n",
       "      <th>price</th>\n",
       "    </tr>\n",
       "  </thead>\n",
       "  <tbody>\n",
       "    <tr>\n",
       "      <th>19452</th>\n",
       "      <td>290</td>\n",
       "      <td>142000.0</td>\n",
       "    </tr>\n",
       "    <tr>\n",
       "      <th>15381</th>\n",
       "      <td>370</td>\n",
       "      <td>276000.0</td>\n",
       "    </tr>\n",
       "    <tr>\n",
       "      <th>860</th>\n",
       "      <td>380</td>\n",
       "      <td>245000.0</td>\n",
       "    </tr>\n",
       "    <tr>\n",
       "      <th>18379</th>\n",
       "      <td>384</td>\n",
       "      <td>265000.0</td>\n",
       "    </tr>\n",
       "    <tr>\n",
       "      <th>4868</th>\n",
       "      <td>390</td>\n",
       "      <td>228000.0</td>\n",
       "    </tr>\n",
       "  </tbody>\n",
       "</table>\n",
       "</div>"
      ],
      "text/plain": [
       "       power_1     price\n",
       "19452      290  142000.0\n",
       "15381      370  276000.0\n",
       "860        380  245000.0\n",
       "18379      384  265000.0\n",
       "4868       390  228000.0"
      ]
     },
     "execution_count": 9,
     "metadata": {},
     "output_type": "execute_result"
    }
   ],
   "source": [
    "# Create poly df of sqft_living\n",
    "poly1_data = polynomial_dataframe(sales, feature='sqft_living', output='price', degree=1)\n",
    "poly1_data.head()"
   ]
  },
  {
   "cell_type": "code",
   "execution_count": 10,
   "metadata": {
    "collapsed": true
   },
   "outputs": [],
   "source": [
    "# Fire up scikit-learn modulues\n",
    "from sklearn.linear_model import LinearRegression\n",
    "from sklearn.metrics import mean_squared_error as mse    "
   ]
  },
  {
   "cell_type": "code",
   "execution_count": 11,
   "metadata": {
    "collapsed": true
   },
   "outputs": [],
   "source": [
    "def create_linear_regression_model(data, features, output):\n",
    "    \"\"\"\n",
    "    Fit a linear regression classifier.\n",
    "    \"\"\"\n",
    "    # Initiate the classifier\n",
    "    linreg_clf = LinearRegression(normalize=True)\n",
    "    # Fit the data\n",
    "    \n",
    "    X = data[features].as_matrix()\n",
    "    \n",
    "    # Need to create the 1-D array to a N x 1 matrix\n",
    "    if len(X.shape) == 1:\n",
    "        X = X.reshape(-1, 1)\n",
    "    \n",
    "    y = data[output].as_matrix()\n",
    "    \n",
    "    linreg_clf.fit(X, y)\n",
    "    \n",
    "    return linreg_clf"
   ]
  },
  {
   "cell_type": "code",
   "execution_count": 12,
   "metadata": {
    "collapsed": false
   },
   "outputs": [],
   "source": [
    "def predict(model, poly_data):\n",
    "    # Extract the polynomial features\n",
    "    features = [f for f in poly_data.columns.values if f.startswith('power')]\n",
    "    return model.predict(poly_data[features])\n",
    "        \n",
    "def plot_poly(poly_data, model):\n",
    "    \"\"\"\n",
    "    Scatter plot of the price vs sqft_living data compared with the\n",
    "    fitted linear regression model.\n",
    "    \"\"\"\n",
    "    # Scatter plot\n",
    "    plt.plot(poly_data['power_1'], poly_data['price'], \".\" ,\n",
    "             poly_data['power_1'], predict(model, poly_data), \"-\")\n",
    "    plt.xlabel(\"sqft_living\")\n",
    "    plt.ylabel(\"price\")   "
   ]
  },
  {
   "cell_type": "markdown",
   "metadata": {},
   "source": [
    "### Polynomial 1st degree"
   ]
  },
  {
   "cell_type": "code",
   "execution_count": 13,
   "metadata": {
    "collapsed": false
   },
   "outputs": [
    {
     "name": "stdout",
     "output_type": "stream",
     "text": [
      "-43580.7430945\n",
      "[ 280.6235679]\n"
     ]
    }
   ],
   "source": [
    "model1 = create_linear_regression_model(poly1_data, features='power_1', output='price')\n",
    "\n",
    "print model1.intercept_\n",
    "print model1.coef_"
   ]
  },
  {
   "cell_type": "code",
   "execution_count": 14,
   "metadata": {
    "collapsed": false
   },
   "outputs": [
    {
     "data": {
      "image/png": "[encoded data removed]",
      "text/plain": [
       "<matplotlib.figure.Figure at 0x6b855c0>"
      ]
     },
     "metadata": {},
     "output_type": "display_data"
    }
   ],
   "source": [
    "# Plot of poly. degree 1\n",
    "plot_poly(poly1_data, model1)"
   ]
  },
  {
   "cell_type": "markdown",
   "metadata": {},
   "source": [
    "### Polynomial 2nd degree"
   ]
  },
  {
   "cell_type": "code",
   "execution_count": 15,
   "metadata": {
    "collapsed": false
   },
   "outputs": [
    {
     "data": {
      "text/html": [
       "<div>\n",
       "<table border=\"1\" class=\"dataframe\">\n",
       "  <thead>\n",
       "    <tr style=\"text-align: right;\">\n",
       "      <th></th>\n",
       "      <th>power_1</th>\n",
       "      <th>power_2</th>\n",
       "      <th>price</th>\n",
       "    </tr>\n",
       "  </thead>\n",
       "  <tbody>\n",
       "    <tr>\n",
       "      <th>19452</th>\n",
       "      <td>290</td>\n",
       "      <td>84100</td>\n",
       "      <td>142000.0</td>\n",
       "    </tr>\n",
       "    <tr>\n",
       "      <th>15381</th>\n",
       "      <td>370</td>\n",
       "      <td>136900</td>\n",
       "      <td>276000.0</td>\n",
       "    </tr>\n",
       "    <tr>\n",
       "      <th>860</th>\n",
       "      <td>380</td>\n",
       "      <td>144400</td>\n",
       "      <td>245000.0</td>\n",
       "    </tr>\n",
       "    <tr>\n",
       "      <th>18379</th>\n",
       "      <td>384</td>\n",
       "      <td>147456</td>\n",
       "      <td>265000.0</td>\n",
       "    </tr>\n",
       "    <tr>\n",
       "      <th>4868</th>\n",
       "      <td>390</td>\n",
       "      <td>152100</td>\n",
       "      <td>228000.0</td>\n",
       "    </tr>\n",
       "  </tbody>\n",
       "</table>\n",
       "</div>"
      ],
      "text/plain": [
       "       power_1  power_2     price\n",
       "19452      290    84100  142000.0\n",
       "15381      370   136900  276000.0\n",
       "860        380   144400  245000.0\n",
       "18379      384   147456  265000.0\n",
       "4868       390   152100  228000.0"
      ]
     },
     "execution_count": 15,
     "metadata": {},
     "output_type": "execute_result"
    }
   ],
   "source": [
    "# Polynomial up to two degrees\n",
    "poly2_data = polynomial_dataframe(sales, feature='sqft_living', output='price', degree=2)\n",
    "poly2_data.head()"
   ]
  },
  {
   "cell_type": "code",
   "execution_count": 16,
   "metadata": {
    "collapsed": false
   },
   "outputs": [
    {
     "name": "stdout",
     "output_type": "stream",
     "text": [
      "199222.279305\n",
      "[  6.79940947e+01   3.85812609e-02]\n"
     ]
    }
   ],
   "source": [
    "model2 = create_linear_regression_model(poly2_data, features=['power_1', 'power_2'], output='price')\n",
    "print model2.intercept_\n",
    "print model2.coef_"
   ]
  },
  {
   "cell_type": "code",
   "execution_count": 17,
   "metadata": {
    "collapsed": false
   },
   "outputs": [
    {
     "data": {
      "image/png": "[encoded data removed]",
      "text/plain": [
       "<matplotlib.figure.Figure at 0xc0967b8>"
      ]
     },
     "metadata": {},
     "output_type": "display_data"
    }
   ],
   "source": [
    "# Plot the polynomials with degree 2\n",
    "plot_poly(poly2_data, model2)"
   ]
  },
  {
   "cell_type": "markdown",
   "metadata": {},
   "source": [
    "### Polynomial 3rd degree"
   ]
  },
  {
   "cell_type": "code",
   "execution_count": 18,
   "metadata": {
    "collapsed": false
   },
   "outputs": [
    {
     "name": "stdout",
     "output_type": "stream",
     "text": [
      "336819.748223\n",
      "[ -9.01819864e+01   8.70465089e-02  -3.84055260e-06]\n"
     ]
    }
   ],
   "source": [
    "# Polynomial up to three degrees\n",
    "poly3_data = polynomial_dataframe(sales, feature='sqft_living', output='price', degree=3)\n",
    "\n",
    "# Create linreg model\n",
    "model3 = create_linear_regression_model(poly3_data, \n",
    "                                        features=['power_' + str(i) for i in range(1, 4)],\n",
    "                                        output='price')\n",
    "print model3.intercept_\n",
    "print model3.coef_"
   ]
  },
  {
   "cell_type": "code",
   "execution_count": 19,
   "metadata": {
    "collapsed": false
   },
   "outputs": [
    {
     "data": {
      "image/png": "[encoded data removed]",
      "text/plain": [
       "<matplotlib.figure.Figure at 0xc570b00>"
      ]
     },
     "metadata": {},
     "output_type": "display_data"
    }
   ],
   "source": [
    "plot_poly(poly3_data, model3)"
   ]
  },
  {
   "cell_type": "markdown",
   "metadata": {},
   "source": [
    "### Polynomial 15th degree\n",
    "\n",
    "Do you think this degree is appropriate for these data? If we were to use a different subset of the data do you think we would get pretty much the same curve?"
   ]
  },
  {
   "cell_type": "code",
   "execution_count": 20,
   "metadata": {
    "collapsed": false
   },
   "outputs": [
    {
     "name": "stdout",
     "output_type": "stream",
     "text": [
      "226344.861772\n",
      "[  7.21924312e+01   1.28784550e-02   8.79729440e-06  -6.34216415e-10\n",
      "  -1.93870259e-14  -1.56852046e-16  -4.59549424e-16   3.42171231e-16\n",
      "  -1.99017782e-16  -2.50331936e-16   2.19637692e-16   6.74866893e-16\n",
      "   4.48269462e-16  -4.08361862e-16   6.67469145e-17]\n"
     ]
    }
   ],
   "source": [
    "# Polynomial up to three degrees\n",
    "poly15_data = polynomial_dataframe(sales, feature='sqft_living', output='price', degree=15)\n",
    "\n",
    "# Create linreg model\n",
    "model15 = create_linear_regression_model(poly15_data, \n",
    "                                        features=['power_' + str(i) for i in range(1, 16)],\n",
    "                                        output='price')\n",
    "print model15.intercept_\n",
    "print model15.coef_"
   ]
  },
  {
   "cell_type": "code",
   "execution_count": 21,
   "metadata": {
    "collapsed": false
   },
   "outputs": [
    {
     "data": {
      "image/png": "[encoded data removed]",
      "text/plain": [
       "<matplotlib.figure.Figure at 0xc570940>"
      ]
     },
     "metadata": {},
     "output_type": "display_data"
    }
   ],
   "source": [
    "plot_poly(poly15_data, model15)"
   ]
  },
  {
   "cell_type": "markdown",
   "metadata": {},
   "source": [
    "### Polynomial 15th degree, new sets\n",
    "\n",
    "Estimate a 15th degree polynomial on all 4 sets, plot the results and view the coefficients for all four models."
   ]
  },
  {
   "cell_type": "code",
   "execution_count": 22,
   "metadata": {
    "collapsed": true
   },
   "outputs": [],
   "source": [
    "# Read in the data\n",
    "sales_set1 = pd.read_csv(\"./data/wk3_kc_house_set_1_data.csv\", dtype=dtype_dict)\n",
    "sales_set2 = pd.read_csv(\"./data/wk3_kc_house_set_2_data.csv\", dtype=dtype_dict)\n",
    "sales_set3 = pd.read_csv(\"./data/wk3_kc_house_set_3_data.csv\", dtype=dtype_dict)\n",
    "sales_set4 = pd.read_csv(\"./data/wk3_kc_house_set_4_data.csv\", dtype=dtype_dict)\n",
    "\n",
    "# Sort the data\n",
    "sales_set1 = sales_set1.sort_values(['sqft_living', 'price'])\n",
    "sales_set2 = sales_set2.sort_values(['sqft_living', 'price'])\n",
    "sales_set3 = sales_set3.sort_values(['sqft_living', 'price'])\n",
    "sales_set4 = sales_set4.sort_values(['sqft_living', 'price'])"
   ]
  },
  {
   "cell_type": "code",
   "execution_count": 23,
   "metadata": {
    "collapsed": false
   },
   "outputs": [
    {
     "data": {
      "text/plain": [
       "<matplotlib.legend.Legend at 0xd153cf8>"
      ]
     },
     "execution_count": 23,
     "metadata": {},
     "output_type": "execute_result"
    },
    {
     "data": {
      "image/png": "[encoded data removed]",
      "text/plain": [
       "<matplotlib.figure.Figure at 0xc570b70>"
      ]
     },
     "metadata": {},
     "output_type": "display_data"
    }
   ],
   "source": [
    "# Just to show the different sets\n",
    "plt.scatter(sales_set1['sqft_living'], sales_set1['price'], color=\"b\", alpha=0.5, label=\"set1\")\n",
    "plt.scatter(sales_set2['sqft_living'], sales_set2['price'], color=\"r\", alpha=0.5, label=\"set2\")\n",
    "plt.legend(loc=0)"
   ]
  },
  {
   "cell_type": "code",
   "execution_count": 24,
   "metadata": {
    "collapsed": false
   },
   "outputs": [],
   "source": [
    "def create_poly_and_linreg_model(data, feature, output, degree):\n",
    "    poly_data = polynomial_dataframe(data, feature, output, degree)\n",
    "    model = create_linear_regression_model(poly_data, \n",
    "                                           features=['power_' + str(i) for i in range(1, degree+1)],\n",
    "                                           output=output)\n",
    "    return poly_data, model"
   ]
  },
  {
   "cell_type": "markdown",
   "metadata": {},
   "source": [
    "### Estimate using the 4 different sets\n",
    "#### Set 1"
   ]
  },
  {
   "cell_type": "code",
   "execution_count": 25,
   "metadata": {
    "collapsed": false
   },
   "outputs": [],
   "source": [
    "poly15_set1, model15_set1 = create_poly_and_linreg_model(data=sales_set1,\n",
    "                                                         feature='sqft_living',\n",
    "                                                         output='price',\n",
    "                                                         degree=15)"
   ]
  },
  {
   "cell_type": "markdown",
   "metadata": {},
   "source": [
    "#### Set 2"
   ]
  },
  {
   "cell_type": "code",
   "execution_count": 26,
   "metadata": {
    "collapsed": false
   },
   "outputs": [],
   "source": [
    "poly15_set2, model15_set2 = create_poly_and_linreg_model(data=sales_set2,\n",
    "                                                         feature='sqft_living',\n",
    "                                                         output='price',\n",
    "                                                         degree=15)"
   ]
  },
  {
   "cell_type": "markdown",
   "metadata": {},
   "source": [
    "#### Set 3"
   ]
  },
  {
   "cell_type": "code",
   "execution_count": 27,
   "metadata": {
    "collapsed": false
   },
   "outputs": [],
   "source": [
    "poly15_set3, model15_set3 = create_poly_and_linreg_model(data=sales_set3,\n",
    "                                                         feature='sqft_living',\n",
    "                                                         output='price',\n",
    "                                                         degree=15)"
   ]
  },
  {
   "cell_type": "markdown",
   "metadata": {},
   "source": [
    "#### Set 4"
   ]
  },
  {
   "cell_type": "code",
   "execution_count": 28,
   "metadata": {
    "collapsed": false
   },
   "outputs": [],
   "source": [
    "poly15_set4, model15_set4 = create_poly_and_linreg_model(data=sales_set4,\n",
    "                                                         feature='sqft_living',\n",
    "                                                         output='price',\n",
    "                                                         degree=15)"
   ]
  },
  {
   "cell_type": "markdown",
   "metadata": {},
   "source": [
    "### Plotting the coefficients of the different sets\n",
    "\n",
    "N.B: I have plotted the log(coeff)."
   ]
  },
  {
   "cell_type": "code",
   "execution_count": 29,
   "metadata": {
    "collapsed": false
   },
   "outputs": [
    {
     "data": {
      "text/html": [
       "<div>\n",
       "<table border=\"1\" class=\"dataframe\">\n",
       "  <thead>\n",
       "    <tr style=\"text-align: right;\">\n",
       "      <th></th>\n",
       "      <th>Set1</th>\n",
       "      <th>Set2</th>\n",
       "      <th>Set3</th>\n",
       "      <th>Set4</th>\n",
       "    </tr>\n",
       "  </thead>\n",
       "  <tbody>\n",
       "    <tr>\n",
       "      <th>0</th>\n",
       "      <td>-8.909938e+04</td>\n",
       "      <td>2.504469e+04</td>\n",
       "      <td>-3.564221e+04</td>\n",
       "      <td>-4.726023e+04</td>\n",
       "    </tr>\n",
       "    <tr>\n",
       "      <th>1</th>\n",
       "      <td>2.654867e+02</td>\n",
       "      <td>-8.272689e+01</td>\n",
       "      <td>1.143611e+02</td>\n",
       "      <td>1.839381e+02</td>\n",
       "    </tr>\n",
       "    <tr>\n",
       "      <th>2</th>\n",
       "      <td>-4.473242e-01</td>\n",
       "      <td>1.546155e-01</td>\n",
       "      <td>-2.067059e-01</td>\n",
       "      <td>-3.995924e-01</td>\n",
       "    </tr>\n",
       "    <tr>\n",
       "      <th>3</th>\n",
       "      <td>4.813455e-04</td>\n",
       "      <td>-1.847311e-04</td>\n",
       "      <td>2.383577e-04</td>\n",
       "      <td>5.499862e-04</td>\n",
       "    </tr>\n",
       "    <tr>\n",
       "      <th>4</th>\n",
       "      <td>-3.526917e-07</td>\n",
       "      <td>1.512764e-07</td>\n",
       "      <td>-1.869596e-07</td>\n",
       "      <td>-5.127464e-07</td>\n",
       "    </tr>\n",
       "    <tr>\n",
       "      <th>5</th>\n",
       "      <td>1.827650e-10</td>\n",
       "      <td>-8.845363e-11</td>\n",
       "      <td>1.035906e-10</td>\n",
       "      <td>3.371699e-10</td>\n",
       "    </tr>\n",
       "    <tr>\n",
       "      <th>6</th>\n",
       "      <td>-6.851861e-14</td>\n",
       "      <td>3.781022e-14</td>\n",
       "      <td>-4.147364e-14</td>\n",
       "      <td>-1.603739e-13</td>\n",
       "    </tr>\n",
       "    <tr>\n",
       "      <th>7</th>\n",
       "      <td>1.881309e-17</td>\n",
       "      <td>-1.195427e-17</td>\n",
       "      <td>1.214666e-17</td>\n",
       "      <td>5.598411e-17</td>\n",
       "    </tr>\n",
       "    <tr>\n",
       "      <th>8</th>\n",
       "      <td>-3.796797e-21</td>\n",
       "      <td>2.802333e-21</td>\n",
       "      <td>-2.612669e-21</td>\n",
       "      <td>-1.442340e-20</td>\n",
       "    </tr>\n",
       "    <tr>\n",
       "      <th>9</th>\n",
       "      <td>5.604227e-25</td>\n",
       "      <td>-4.840955e-25</td>\n",
       "      <td>4.109156e-25</td>\n",
       "      <td>2.733363e-24</td>\n",
       "    </tr>\n",
       "    <tr>\n",
       "      <th>10</th>\n",
       "      <td>-5.958201e-29</td>\n",
       "      <td>6.064034e-29</td>\n",
       "      <td>-4.657996e-29</td>\n",
       "      <td>-3.757610e-28</td>\n",
       "    </tr>\n",
       "    <tr>\n",
       "      <th>11</th>\n",
       "      <td>4.427549e-33</td>\n",
       "      <td>-5.343250e-33</td>\n",
       "      <td>3.696954e-33</td>\n",
       "      <td>3.640518e-32</td>\n",
       "    </tr>\n",
       "    <tr>\n",
       "      <th>12</th>\n",
       "      <td>-2.175634e-37</td>\n",
       "      <td>3.133507e-37</td>\n",
       "      <td>-1.946040e-37</td>\n",
       "      <td>-2.354048e-36</td>\n",
       "    </tr>\n",
       "    <tr>\n",
       "      <th>13</th>\n",
       "      <td>6.333007e-42</td>\n",
       "      <td>-1.096136e-41</td>\n",
       "      <td>6.094292e-42</td>\n",
       "      <td>9.109299e-41</td>\n",
       "    </tr>\n",
       "    <tr>\n",
       "      <th>14</th>\n",
       "      <td>-8.245664e-47</td>\n",
       "      <td>1.728216e-46</td>\n",
       "      <td>-8.584616e-47</td>\n",
       "      <td>-1.594067e-45</td>\n",
       "    </tr>\n",
       "  </tbody>\n",
       "</table>\n",
       "</div>"
      ],
      "text/plain": [
       "            Set1          Set2          Set3          Set4\n",
       "0  -8.909938e+04  2.504469e+04 -3.564221e+04 -4.726023e+04\n",
       "1   2.654867e+02 -8.272689e+01  1.143611e+02  1.839381e+02\n",
       "2  -4.473242e-01  1.546155e-01 -2.067059e-01 -3.995924e-01\n",
       "3   4.813455e-04 -1.847311e-04  2.383577e-04  5.499862e-04\n",
       "4  -3.526917e-07  1.512764e-07 -1.869596e-07 -5.127464e-07\n",
       "5   1.827650e-10 -8.845363e-11  1.035906e-10  3.371699e-10\n",
       "6  -6.851861e-14  3.781022e-14 -4.147364e-14 -1.603739e-13\n",
       "7   1.881309e-17 -1.195427e-17  1.214666e-17  5.598411e-17\n",
       "8  -3.796797e-21  2.802333e-21 -2.612669e-21 -1.442340e-20\n",
       "9   5.604227e-25 -4.840955e-25  4.109156e-25  2.733363e-24\n",
       "10 -5.958201e-29  6.064034e-29 -4.657996e-29 -3.757610e-28\n",
       "11  4.427549e-33 -5.343250e-33  3.696954e-33  3.640518e-32\n",
       "12 -2.175634e-37  3.133507e-37 -1.946040e-37 -2.354048e-36\n",
       "13  6.333007e-42 -1.096136e-41  6.094292e-42  9.109299e-41\n",
       "14 -8.245664e-47  1.728216e-46 -8.584616e-47 -1.594067e-45"
      ]
     },
     "execution_count": 29,
     "metadata": {},
     "output_type": "execute_result"
    }
   ],
   "source": [
    "coeff_poly15_sets_df = pd.DataFrame({\"Set1\" : model15_set1.coef_,\n",
    "                               \"Set2\" : model15_set2.coef_,\n",
    "                               \"Set3\" : model15_set3.coef_,\n",
    "                               \"Set4\" : model15_set4.coef_})\n",
    "\n",
    "coeff_poly15_sets_df"
   ]
  },
  {
   "cell_type": "code",
   "execution_count": 30,
   "metadata": {
    "collapsed": false
   },
   "outputs": [
    {
     "data": {
      "text/plain": [
       "<matplotlib.axes._subplots.AxesSubplot at 0xd101828>"
      ]
     },
     "execution_count": 30,
     "metadata": {},
     "output_type": "execute_result"
    },
    {
     "data": {
      "image/png": "[encoded data removed]",
      "text/plain": [
       "<matplotlib.figure.Figure at 0xd10e278>"
      ]
     },
     "metadata": {},
     "output_type": "display_data"
    }
   ],
   "source": [
    "# Plot the log of the coefficients\n",
    "coeff_poly15_sets_df.apply(np.log10).plot.barh()"
   ]
  },
  {
   "cell_type": "markdown",
   "metadata": {},
   "source": [
    "### Plotting the estimated set models"
   ]
  },
  {
   "cell_type": "code",
   "execution_count": 31,
   "metadata": {
    "collapsed": false
   },
   "outputs": [
    {
     "data": {
      "image/png": "[encoded data removed]",
      "text/plain": [
       "<matplotlib.figure.Figure at 0xd378518>"
      ]
     },
     "metadata": {},
     "output_type": "display_data"
    }
   ],
   "source": [
    "plot_poly(poly15_set1, model15_set1)"
   ]
  },
  {
   "cell_type": "code",
   "execution_count": 32,
   "metadata": {
    "collapsed": false
   },
   "outputs": [
    {
     "data": {
      "image/png": "[encoded data removed]",
      "text/plain": [
       "<matplotlib.figure.Figure at 0xd10e320>"
      ]
     },
     "metadata": {},
     "output_type": "display_data"
    }
   ],
   "source": [
    "plot_poly(poly15_set2, model15_set2)"
   ]
  },
  {
   "cell_type": "code",
   "execution_count": 33,
   "metadata": {
    "collapsed": false
   },
   "outputs": [
    {
     "data": {
      "image/png": "[encoded data removed]",
      "text/plain": [
       "<matplotlib.figure.Figure at 0xbe96470>"
      ]
     },
     "metadata": {},
     "output_type": "display_data"
    }
   ],
   "source": [
    "plot_poly(poly15_set3, model15_set3)"
   ]
  },
  {
   "cell_type": "code",
   "execution_count": 34,
   "metadata": {
    "collapsed": false
   },
   "outputs": [
    {
     "data": {
      "image/png": "[encoded data removed]",
      "text/plain": [
       "<matplotlib.figure.Figure at 0xc0961d0>"
      ]
     },
     "metadata": {},
     "output_type": "display_data"
    }
   ],
   "source": [
    "plot_poly(poly15_set4, model15_set4)"
   ]
  },
  {
   "cell_type": "markdown",
   "metadata": {},
   "source": [
    "We see from the four plots above, that every subset model is different from the other"
   ]
  },
  {
   "cell_type": "markdown",
   "metadata": {},
   "source": [
    "# 12. Quiz Question:\n",
    "\n",
    "Is the sign (positive or negative) for power_15 the same in all four models?"
   ]
  },
  {
   "cell_type": "code",
   "execution_count": 35,
   "metadata": {
    "collapsed": false
   },
   "outputs": [
    {
     "data": {
      "text/plain": [
       "Set1    False\n",
       "Set2     True\n",
       "Set3    False\n",
       "Set4    False\n",
       "Name: 14, dtype: bool"
      ]
     },
     "execution_count": 35,
     "metadata": {},
     "output_type": "execute_result"
    }
   ],
   "source": [
    "coeff_poly15_sets_df.iloc[-1] > 0"
   ]
  },
  {
   "cell_type": "markdown",
   "metadata": {},
   "source": [
    "Since the “best” polynomial degree is unknown to us we will use cross validation to select the best degree."
   ]
  },
  {
   "cell_type": "markdown",
   "metadata": {},
   "source": [
    "### Find the best polynomial \n",
    "\n",
    "Now for each degree from 1 to 15:\n",
    "- Build an polynomial data set using training_data[‘sqft_living’] as the feature and the current degree\n",
    "- Add training_data[‘price’] as a column to your polynomial data set\n",
    "- Learn a model on TRAINING data to predict ‘price’ based on your polynomial data set at the current degree\n",
    "- Compute the RSS on VALIDATION for the current model (print or save the RSS)"
   ]
  },
  {
   "cell_type": "markdown",
   "metadata": {},
   "source": [
    "### Using Graphlab "
   ]
  },
  {
   "cell_type": "code",
   "execution_count": 36,
   "metadata": {
    "collapsed": true
   },
   "outputs": [],
   "source": [
    "import graphlab as gl"
   ]
  },
  {
   "cell_type": "code",
   "execution_count": 37,
   "metadata": {
    "collapsed": true
   },
   "outputs": [],
   "source": [
    "def polynomial_sframe(feature, degree):\n",
    "    # assume that degree >= 1\n",
    "    # initialize the SFrame:\n",
    "    poly_sframe = gl.SFrame()\n",
    "    # and set poly_sframe['power_1'] equal to the passed feature\n",
    "    poly_sframe['power_1'] = feature\n",
    "    # first check if degree > 1\n",
    "    if degree > 1:\n",
    "        # then loop over the remaining degrees:\n",
    "        # range usually starts at 0 and stops at the endpoint-1. We want it to start at 2 and stop at degree\n",
    "        for power in range(2, degree+1): \n",
    "            # first we'll give the column a name:\n",
    "            name = 'power_' + str(power)\n",
    "            # then assign poly_sframe[name] to the appropriate power of feature\n",
    "            poly_sframe[name] = feature**power\n",
    "    return poly_sframe"
   ]
  },
  {
   "cell_type": "code",
   "execution_count": 38,
   "metadata": {
    "collapsed": false
   },
   "outputs": [
    {
     "name": "stderr",
     "output_type": "stream",
     "text": [
      "[INFO] graphlab.cython.cy_server: GraphLab Create v2.1 started. Logging: C:\\Users\\emirl\\AppData\\Local\\Temp\\graphlab_server_1478084780.log.0\n"
     ]
    },
    {
     "name": "stdout",
     "output_type": "stream",
     "text": [
      "This non-commercial license of GraphLab Create for academic use is assigned to emir.lej@gmail.com and will expire on September 20, 2017.\n"
     ]
    }
   ],
   "source": [
    "# Set up the train, valid and testing sets\n",
    "sales = gl.SFrame('./data/kc_house_data.gl/')\n",
    "sales = sales.sort(['sqft_living', 'price'])\n",
    "training_and_validation, testing = sales.random_split(.9,seed=1)\n",
    "training, validation = training_and_validation.random_split(.5,seed=1)"
   ]
  },
  {
   "cell_type": "code",
   "execution_count": 39,
   "metadata": {
    "collapsed": false
   },
   "outputs": [
    {
     "name": "stdout",
     "output_type": "stream",
     "text": [
      "6.76709775198e+14\n",
      "6.07090530698e+14\n",
      "6.16714574533e+14\n",
      "6.09129230654e+14\n",
      "5.99177138584e+14\n",
      "5.89182477809e+14\n",
      "5.91717038418e+14\n",
      "6.01558237777e+14\n",
      "6.12563853988e+14\n",
      "6.21744288936e+14\n",
      "6.27012012704e+14\n",
      "6.2775791477e+14\n",
      "6.24738503262e+14\n",
      "6.19369705907e+14\n",
      "6.13089202413e+14\n"
     ]
    }
   ],
   "source": [
    "RSS_list = []\n",
    "for i in range(1,16):\n",
    "    poly_data = polynomial_sframe(training['sqft_living'], i)\n",
    "    my_features = poly_data.column_names() \n",
    "    poly_data['price'] = training['price'] # add price to the data since it's the target\n",
    "    model = gl.linear_regression.create(poly_data, target = 'price', features = my_features, validation_set = None, verbose = False)\n",
    "    validation_data = polynomial_sframe(validation['sqft_living'], i)\n",
    "    validation_data['price'] = validation['price']\n",
    "    predictions = model.predict(validation_data)\n",
    "    RSS = ((predictions - validation_data['price']) * (predictions - validation_data['price'])).sum()\n",
    "    RSS_list.append(RSS)\n",
    "    print str(RSS)"
   ]
  },
  {
   "cell_type": "code",
   "execution_count": 40,
   "metadata": {
    "collapsed": false
   },
   "outputs": [
    {
     "data": {
      "text/plain": [
       "<matplotlib.text.Text at 0xe916198>"
      ]
     },
     "execution_count": 40,
     "metadata": {},
     "output_type": "execute_result"
    },
    {
     "data": {
      "image/png": "[encoded data removed]",
      "text/plain": [
       "<matplotlib.figure.Figure at 0xe7e5f98>"
      ]
     },
     "metadata": {},
     "output_type": "display_data"
    }
   ],
   "source": [
    "plt.plot(range(1, len(RSS_list)+1), RSS_list, \"-o\")\n",
    "plt.xlabel(\"Poly. degree\")\n",
    "plt.ylabel(\"RSS\")"
   ]
  },
  {
   "cell_type": "markdown",
   "metadata": {},
   "source": [
    "From the figure above, we see that polynomial degree 6 gives us the lowest RSS on the validation data. \n",
    "Thus, we will use this model to calculate the RSS on the test data.\n",
    "\n",
    "### Calculate the RSS on test data"
   ]
  },
  {
   "cell_type": "code",
   "execution_count": 50,
   "metadata": {
    "collapsed": false
   },
   "outputs": [
    {
     "name": "stdout",
     "output_type": "stream",
     "text": [
      "1.23600478163e+14\n"
     ]
    }
   ],
   "source": [
    "# Create the polynomial feature SFrame\n",
    "poly6_data = polynomial_sframe(validation['sqft_living'], 6)\n",
    "# Extract the column names, which are the features\n",
    "features = poly6_data.column_names()\n",
    "# Add the output target\n",
    "poly6_data['price'] = validation['price']\n",
    "\n",
    "# Fit a linear regression model to the data\n",
    "linreg_gl = gl.linear_regression.create(poly6_data, target='price',\n",
    "                                     features=features, validation_set=None,\n",
    "                                     verbose=False)\n",
    "\n",
    "# Create a feature df of the testing data\n",
    "poly_testing = polynomial_sframe(testing['sqft_living'], 6)\n",
    "\n",
    "# Predict the output using the linear model estimated from the validation data\n",
    "predicted = linreg_gl.predict(poly_testing)\n",
    "\n",
    "# Compute the rss\n",
    "rss = ((testing['price']-predicted)**2).sum()\n",
    "print rss"
   ]
  },
  {
   "cell_type": "markdown",
   "metadata": {},
   "source": [
    "## Using scikit-learn\n",
    "Now, let us do the the same linear regression process with the 6th degree poly. model. \n",
    "\n",
    "### Creating own csv files from the test, validation and training set above\n",
    "This has to be done such that we use Linear_Regression from scikit-learn. The datasets will be same, something which is not the case with the files given by coursera."
   ]
  },
  {
   "cell_type": "code",
   "execution_count": 51,
   "metadata": {
    "collapsed": false
   },
   "outputs": [],
   "source": [
    "# Export the SFrames to csv files\n",
    "training.export_csv(\"./data/training.csv\")\n",
    "validation.export_csv(\"./data/validation.csv\")\n",
    "testing.export_csv(\"./data/testing.csv\")\n",
    "\n",
    "# Now, read these files with pandas\n",
    "training_df = pd.read_csv(\"./data/training.csv\")\n",
    "validation_df = pd.read_csv(\"./data/validation.csv\")\n",
    "testing_df = pd.read_csv(\"./data/testing.csv\")"
   ]
  },
  {
   "cell_type": "code",
   "execution_count": 52,
   "metadata": {
    "collapsed": false
   },
   "outputs": [
    {
     "name": "stdout",
     "output_type": "stream",
     "text": [
      "(9761, 21)\n",
      "(9761, 21)\n"
     ]
    }
   ],
   "source": [
    "# Just check shapes to verify\n",
    "print training.shape\n",
    "print training_df.shape"
   ]
  },
  {
   "cell_type": "markdown",
   "metadata": {},
   "source": [
    "## RSS for polynomials 1-15 using scikit-learn "
   ]
  },
  {
   "cell_type": "code",
   "execution_count": 62,
   "metadata": {
    "collapsed": false
   },
   "outputs": [
    {
     "name": "stdout",
     "output_type": "stream",
     "text": [
      "6.76709732248e+14\n",
      "6.07090993663e+14\n",
      "6.16719663505e+14\n",
      "6.09123915987e+14\n",
      "6.10923652088e+14\n",
      "6.10883907208e+14\n",
      "6.10885843054e+14\n",
      "6.10836522217e+14\n",
      "6.11085858457e+14\n",
      "6.11243384212e+14\n",
      "6.11339849257e+14\n",
      "6.11220772379e+14\n",
      "6.11221485211e+14\n",
      "6.11287230614e+14\n",
      "6.11266289118e+14\n"
     ]
    }
   ],
   "source": [
    "RSS_list = []\n",
    "for i in range(1,16):\n",
    "    # Create the polynomial dataframe of the wanted feature\n",
    "    poly_data = polynomial_dataframe(training_df, feature='sqft_living', output=None, degree=i)\n",
    "    # Extract the feature list\n",
    "    my_features = poly_data.columns.values \n",
    "    # add price to the data since it's the target\n",
    "    poly_data['price'] = training_df['price'] \n",
    "    \n",
    "    # Initiate and fit the linear regression model\n",
    "    linreg = LinearRegression()\n",
    "    linreg.fit(poly_data[my_features], poly_data['price'])\n",
    "    \n",
    "    # Now use the validation data to calculate the RSS\n",
    "    validation_data = polynomial_dataframe(validation_df, feature='sqft_living', output=None, degree=i)\n",
    "    validation_data['price'] = validation_df['price']\n",
    "    predictions = linreg.predict(validation_data[my_features])\n",
    "    RSS = np.sum((predictions - validation_data['price'])**2)\n",
    "    RSS_list.append(RSS)\n",
    "    print str(RSS)"
   ]
  },
  {
   "cell_type": "code",
   "execution_count": 63,
   "metadata": {
    "collapsed": false
   },
   "outputs": [
    {
     "data": {
      "text/plain": [
       "[<matplotlib.lines.Line2D at 0x290047f0>]"
      ]
     },
     "execution_count": 63,
     "metadata": {},
     "output_type": "execute_result"
    },
    {
     "data": {
      "image/png": "[encoded data removed]",
      "text/plain": [
       "<matplotlib.figure.Figure at 0xc22bac8>"
      ]
     },
     "metadata": {},
     "output_type": "display_data"
    }
   ],
   "source": [
    "plt.plot(range(1, )RSS_list, \"-o\")"
   ]
  },
  {
   "cell_type": "code",
   "execution_count": 53,
   "metadata": {
    "collapsed": false
   },
   "outputs": [
    {
     "data": {
      "text/html": [
       "<div>\n",
       "<table border=\"1\" class=\"dataframe\">\n",
       "  <thead>\n",
       "    <tr style=\"text-align: right;\">\n",
       "      <th></th>\n",
       "      <th>power_1</th>\n",
       "      <th>power_2</th>\n",
       "      <th>power_3</th>\n",
       "      <th>power_4</th>\n",
       "      <th>power_5</th>\n",
       "      <th>power_6</th>\n",
       "      <th>price</th>\n",
       "    </tr>\n",
       "  </thead>\n",
       "  <tbody>\n",
       "    <tr>\n",
       "      <th>0</th>\n",
       "      <td>290</td>\n",
       "      <td>84100</td>\n",
       "      <td>24389000</td>\n",
       "      <td>7072810000</td>\n",
       "      <td>2051114900000</td>\n",
       "      <td>594823321000000</td>\n",
       "      <td>142000.0</td>\n",
       "    </tr>\n",
       "    <tr>\n",
       "      <th>1</th>\n",
       "      <td>370</td>\n",
       "      <td>136900</td>\n",
       "      <td>50653000</td>\n",
       "      <td>18741610000</td>\n",
       "      <td>6934395700000</td>\n",
       "      <td>2565726409000000</td>\n",
       "      <td>276000.0</td>\n",
       "    </tr>\n",
       "    <tr>\n",
       "      <th>2</th>\n",
       "      <td>380</td>\n",
       "      <td>144400</td>\n",
       "      <td>54872000</td>\n",
       "      <td>20851360000</td>\n",
       "      <td>7923516800000</td>\n",
       "      <td>3010936384000000</td>\n",
       "      <td>245000.0</td>\n",
       "    </tr>\n",
       "    <tr>\n",
       "      <th>3</th>\n",
       "      <td>390</td>\n",
       "      <td>152100</td>\n",
       "      <td>59319000</td>\n",
       "      <td>23134410000</td>\n",
       "      <td>9022419900000</td>\n",
       "      <td>3518743761000000</td>\n",
       "      <td>228000.0</td>\n",
       "    </tr>\n",
       "    <tr>\n",
       "      <th>4</th>\n",
       "      <td>410</td>\n",
       "      <td>168100</td>\n",
       "      <td>68921000</td>\n",
       "      <td>28257610000</td>\n",
       "      <td>11585620100000</td>\n",
       "      <td>4750104241000000</td>\n",
       "      <td>325000.0</td>\n",
       "    </tr>\n",
       "  </tbody>\n",
       "</table>\n",
       "</div>"
      ],
      "text/plain": [
       "   power_1  power_2   power_3      power_4         power_5           power_6  \\\n",
       "0      290    84100  24389000   7072810000   2051114900000   594823321000000   \n",
       "1      370   136900  50653000  18741610000   6934395700000  2565726409000000   \n",
       "2      380   144400  54872000  20851360000   7923516800000  3010936384000000   \n",
       "3      390   152100  59319000  23134410000   9022419900000  3518743761000000   \n",
       "4      410   168100  68921000  28257610000  11585620100000  4750104241000000   \n",
       "\n",
       "      price  \n",
       "0  142000.0  \n",
       "1  276000.0  \n",
       "2  245000.0  \n",
       "3  228000.0  \n",
       "4  325000.0  "
      ]
     },
     "execution_count": 53,
     "metadata": {},
     "output_type": "execute_result"
    }
   ],
   "source": [
    "# Create the feature poly. dataframe\n",
    "poly6df = polynomial_dataframe(validation_df, feature='sqft_living', output='price', degree=6)\n",
    "poly6df.head()"
   ]
  },
  {
   "cell_type": "code",
   "execution_count": 54,
   "metadata": {
    "collapsed": false
   },
   "outputs": [
    {
     "data": {
      "text/plain": [
       "LinearRegression(copy_X=True, fit_intercept=True, n_jobs=1, normalize=False)"
      ]
     },
     "execution_count": 54,
     "metadata": {},
     "output_type": "execute_result"
    }
   ],
   "source": [
    "# Create a list of the feature names\n",
    "features = [colname for colname in poly6df.columns.values if colname.startswith(\"pow\")]\n",
    "# Set the output variable\n",
    "output = 'price'\n",
    "# Initiate the linear regression model\n",
    "linreg = LinearRegression()\n",
    "# Fit the model\n",
    "linreg.fit(poly6df[features], poly6df[output])"
   ]
  },
  {
   "cell_type": "code",
   "execution_count": 55,
   "metadata": {
    "collapsed": false
   },
   "outputs": [
    {
     "name": "stdout",
     "output_type": "stream",
     "text": [
      "1.27018255892e+14\n"
     ]
    }
   ],
   "source": [
    "# Now, use the test data to calculate the RSS\n",
    "poly6df_test = polynomial_dataframe(testing_df, feature='sqft_living', output='price', degree=6)\n",
    "\n",
    "# Compute the rss\n",
    "rss = np.sum((testing_df['price'] - linreg.predict(poly6df_test[features]))**2)\n",
    "print rss"
   ]
  },
  {
   "cell_type": "markdown",
   "metadata": {},
   "source": [
    "# Let's look at the difference between scikit-learn and graphlab\n",
    "## Coefficients"
   ]
  },
  {
   "cell_type": "code",
   "execution_count": 56,
   "metadata": {
    "collapsed": false
   },
   "outputs": [
    {
     "name": "stdout",
     "output_type": "stream",
     "text": [
      "262872.696028\n",
      "[  2.40919454e-05   5.66128705e-02  -1.42442772e-06   9.49358288e-11\n",
      "  -4.34510748e-15  -1.18007744e-16]\n"
     ]
    }
   ],
   "source": [
    "# Scikit-learn\n",
    "print linreg.intercept_\n",
    "print linreg.coef_"
   ]
  },
  {
   "cell_type": "code",
   "execution_count": 57,
   "metadata": {
    "collapsed": false
   },
   "outputs": [
    {
     "name": "stdout",
     "output_type": "stream",
     "text": [
      "+-------------+-------+--------------------+-------------------+\n",
      "|     name    | index |       value        |       stderr      |\n",
      "+-------------+-------+--------------------+-------------------+\n",
      "| (intercept) |  None |   -80563.9170061   |   66683.7428273   |\n",
      "|   power_1   |  None |   829.971831392    |   137.918839396   |\n",
      "|   power_2   |  None |  -0.646436626646   |   0.104431155246  |\n",
      "|   power_3   |  None | 0.000268482040869  | 3.70336796201e-05 |\n",
      "|   power_4   |  None | -5.00295525441e-08 | 6.51467239502e-09 |\n",
      "|   power_5   |  None | 4.32244002802e-12  | 5.42961963304e-13 |\n",
      "|   power_6   |  None |  -1.376579098e-16  | 1.69610395256e-17 |\n",
      "+-------------+-------+--------------------+-------------------+\n",
      "[7 rows x 4 columns]\n",
      "\n"
     ]
    }
   ],
   "source": [
    "# Graphlab\n",
    "print linreg_gl.coefficients"
   ]
  }
 ],
 "metadata": {
  "kernelspec": {
   "display_name": "Python [gl-env]",
   "language": "python",
   "name": "Python [gl-env]"
  },
  "language_info": {
   "codemirror_mode": {
    "name": "ipython",
    "version": 2
   },
   "file_extension": ".py",
   "mimetype": "text/x-python",
   "name": "python",
   "nbconvert_exporter": "python",
   "pygments_lexer": "ipython2",
   "version": "2.7.11"
  }
 },
 "nbformat": 4,
 "nbformat_minor": 0
}
