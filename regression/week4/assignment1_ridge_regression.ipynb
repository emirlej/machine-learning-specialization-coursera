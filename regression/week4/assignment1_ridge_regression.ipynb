{
 "cells": [
  {
   "cell_type": "markdown",
   "metadata": {},
   "source": [
    "# Regression Week 4: Ridge Regression Assignment 1\n",
    "In this assignment, we will run ridge regression multiple times with different L2 penalties to see which one produces the best fit. We will revisit the example of polynomial regression as a means to see the effect of L2 regularization. In particular, we will:\n",
    "\n",
    "- Use a pre-built implementation of regression to run polynomial regression\n",
    "- Use matplotlib to visualize polynomial regressions\n",
    "- Use a pre-built implementation of regression to run polynomial regression, this time with L2 penalty\n",
    "- Use matplotlib to visualize polynomial regressions under L2 regularization\n",
    "- Choose best L2 penalty using cross-validation.\n",
    "- Assess the final fit using test data."
   ]
  },
  {
   "cell_type": "code",
   "execution_count": 1,
   "metadata": {
    "collapsed": true
   },
   "outputs": [],
   "source": [
    "import graphlab as gl\n",
    "import pandas as pd\n",
    "import numpy as np\n",
    "import matplotlib.pyplot as plt\n",
    "%matplotlib inline"
   ]
  },
  {
   "cell_type": "code",
   "execution_count": 2,
   "metadata": {
    "collapsed": false
   },
   "outputs": [
    {
     "name": "stderr",
     "output_type": "stream",
     "text": [
      "[INFO] graphlab.cython.cy_server: GraphLab Create v2.1 started. Logging: C:\\Users\\emirl\\AppData\\Local\\Temp\\graphlab_server_1478265482.log.0\n"
     ]
    },
    {
     "name": "stdout",
     "output_type": "stream",
     "text": [
      "This non-commercial license of GraphLab Create for academic use is assigned to emir.lej@gmail.com and will expire on September 20, 2017.\n"
     ]
    }
   ],
   "source": [
    "# Read in the SFrame data\n",
    "sales_SFrame = gl.SFrame(\"./data/kc_house_data.gl/\")\n",
    "sales_SFrame.sort(['sqft_living', 'price'])\n",
    "\n",
    "sales_SFrame.export_csv(\"./data/sales.csv\")\n",
    "\n",
    "# Create set files\n",
    "\n",
    "(semi_split1, semi_split2) = sales_SFrame.random_split(.5,seed=0)\n",
    "(set_1_SF, set_2_SF) = semi_split1.random_split(0.5, seed=0)\n",
    "(set_3_SF, set_4_SF) = semi_split2.random_split(0.5, seed=0)\n",
    "\n",
    "# Export to csv files\n",
    "set_1_SF.export_csv(\"./data/set1.csv\")\n",
    "set_2_SF.export_csv(\"./data/set2.csv\")\n",
    "set_3_SF.export_csv(\"./data/set3.csv\")\n",
    "set_4_SF.export_csv(\"./data/set4.csv\")"
   ]
  },
  {
   "cell_type": "code",
   "execution_count": 3,
   "metadata": {
    "collapsed": true
   },
   "outputs": [],
   "source": [
    "dtype_dict = {'bathrooms':float, 'waterfront':int, 'sqft_above':int, 'sqft_living15':float, 'grade':int, 'yr_renovated':int, 'price':float, 'bedrooms':float, 'zipcode':str, 'long':float, 'sqft_lot15':float, 'sqft_living':float, 'floors':float, 'condition':int, 'lat':float, 'date':str, 'sqft_basement':int, 'yr_built':int, 'id':str, 'sqft_lot':int, 'view':int}"
   ]
  },
  {
   "cell_type": "code",
   "execution_count": 4,
   "metadata": {
    "collapsed": true
   },
   "outputs": [],
   "source": [
    "def polynomial_dataframe(data, feature, output=None, degree=1):\n",
    "    \"\"\"\n",
    "    Create a dataframe with polynomial up to a assigned degree \n",
    "    for a specific feature. Also, if not None, you can add the\n",
    "    output column to the end of the polynomial dataframe.\n",
    "    \"\"\"\n",
    "    assert degree >= 1 # Degree must be at least one\n",
    "    \n",
    "    # Initialize dataframe\n",
    "    poly_df = pd.DataFrame()\n",
    "    \n",
    "    # Add the feature array to dataframe\n",
    "    poly_df['power_1'] = data[feature]\n",
    "    \n",
    "    # Loop over the degrees\n",
    "    if degree > 1:\n",
    "        for power in range(2, degree+1):\n",
    "            # Name of poly. column\n",
    "            \n",
    "            name = 'power_' + str(power)\n",
    "            # Create the column\n",
    "            poly_df[name] = poly_df['power_1'].apply(lambda x: x**power)\n",
    "\n",
    "    # Add the output column if assigned\n",
    "    if output:\n",
    "        poly_df[output] = data[output]\n",
    "    \n",
    "    return poly_df      "
   ]
  },
  {
   "cell_type": "markdown",
   "metadata": {},
   "source": [
    "# Open and sort csv files"
   ]
  },
  {
   "cell_type": "code",
   "execution_count": 5,
   "metadata": {
    "collapsed": false
   },
   "outputs": [],
   "source": [
    "# Read the exported graphlab SFrame \n",
    "set_1 = pd.read_csv('../week4/data/set1.csv', dtype=dtype_dict)\n",
    "set_2 = pd.read_csv('../week4/data/set2.csv', dtype=dtype_dict)\n",
    "set_3 = pd.read_csv('../week4/data/set3.csv', dtype=dtype_dict)\n",
    "set_4 = pd.read_csv('../week4/data/set4.csv', dtype=dtype_dict)\n",
    "\n",
    "# Sort the dataframes\n",
    "sortby = ['sqft_living', 'price']\n",
    "set_1.sort_values(sortby, inplace=True)\n",
    "set_2.sort_values(sortby, inplace=True)\n",
    "set_3.sort_values(sortby, inplace=True)\n",
    "set_4.sort_values(sortby, inplace=True)"
   ]
  },
  {
   "cell_type": "code",
   "execution_count": 6,
   "metadata": {
    "collapsed": false
   },
   "outputs": [
    {
     "data": {
      "text/html": [
       "<div>\n",
       "<table border=\"1\" class=\"dataframe\">\n",
       "  <thead>\n",
       "    <tr style=\"text-align: right;\">\n",
       "      <th></th>\n",
       "      <th>power_1</th>\n",
       "      <th>power_2</th>\n",
       "      <th>price</th>\n",
       "    </tr>\n",
       "  </thead>\n",
       "  <tbody>\n",
       "    <tr>\n",
       "      <th>202</th>\n",
       "      <td>380.0</td>\n",
       "      <td>144400.0</td>\n",
       "      <td>245000.0</td>\n",
       "    </tr>\n",
       "    <tr>\n",
       "      <th>2888</th>\n",
       "      <td>420.0</td>\n",
       "      <td>176400.0</td>\n",
       "      <td>229050.0</td>\n",
       "    </tr>\n",
       "    <tr>\n",
       "      <th>4494</th>\n",
       "      <td>460.0</td>\n",
       "      <td>211600.0</td>\n",
       "      <td>247000.0</td>\n",
       "    </tr>\n",
       "    <tr>\n",
       "      <th>1178</th>\n",
       "      <td>500.0</td>\n",
       "      <td>250000.0</td>\n",
       "      <td>125000.0</td>\n",
       "    </tr>\n",
       "    <tr>\n",
       "      <th>4497</th>\n",
       "      <td>520.0</td>\n",
       "      <td>270400.0</td>\n",
       "      <td>275000.0</td>\n",
       "    </tr>\n",
       "  </tbody>\n",
       "</table>\n",
       "</div>"
      ],
      "text/plain": [
       "      power_1   power_2     price\n",
       "202     380.0  144400.0  245000.0\n",
       "2888    420.0  176400.0  229050.0\n",
       "4494    460.0  211600.0  247000.0\n",
       "1178    500.0  250000.0  125000.0\n",
       "4497    520.0  270400.0  275000.0"
      ]
     },
     "execution_count": 6,
     "metadata": {},
     "output_type": "execute_result"
    }
   ],
   "source": [
    "# Testing the polynomial function\n",
    "test = polynomial_dataframe(set_1[0:5], feature='sqft_living', output='price', degree=2)\n",
    "test"
   ]
  },
  {
   "cell_type": "markdown",
   "metadata": {},
   "source": [
    "# Using scikit-learn\n"
   ]
  },
  {
   "cell_type": "code",
   "execution_count": 7,
   "metadata": {
    "collapsed": true
   },
   "outputs": [],
   "source": [
    "from sklearn.linear_model import Ridge"
   ]
  },
  {
   "cell_type": "code",
   "execution_count": 8,
   "metadata": {
    "collapsed": false
   },
   "outputs": [
    {
     "data": {
      "text/html": [
       "<div>\n",
       "<table border=\"1\" class=\"dataframe\">\n",
       "  <thead>\n",
       "    <tr style=\"text-align: right;\">\n",
       "      <th></th>\n",
       "      <th>id</th>\n",
       "      <th>date</th>\n",
       "      <th>price</th>\n",
       "      <th>bedrooms</th>\n",
       "      <th>bathrooms</th>\n",
       "      <th>sqft_living</th>\n",
       "      <th>sqft_lot</th>\n",
       "      <th>floors</th>\n",
       "      <th>waterfront</th>\n",
       "      <th>view</th>\n",
       "      <th>...</th>\n",
       "      <th>grade</th>\n",
       "      <th>sqft_above</th>\n",
       "      <th>sqft_basement</th>\n",
       "      <th>yr_built</th>\n",
       "      <th>yr_renovated</th>\n",
       "      <th>zipcode</th>\n",
       "      <th>lat</th>\n",
       "      <th>long</th>\n",
       "      <th>sqft_living15</th>\n",
       "      <th>sqft_lot15</th>\n",
       "    </tr>\n",
       "  </thead>\n",
       "  <tbody>\n",
       "    <tr>\n",
       "      <th>19452</th>\n",
       "      <td>3980300371</td>\n",
       "      <td>20140926T000000</td>\n",
       "      <td>142000.0</td>\n",
       "      <td>0</td>\n",
       "      <td>0.00</td>\n",
       "      <td>290</td>\n",
       "      <td>20875</td>\n",
       "      <td>1.0</td>\n",
       "      <td>0</td>\n",
       "      <td>0</td>\n",
       "      <td>...</td>\n",
       "      <td>1</td>\n",
       "      <td>290</td>\n",
       "      <td>0</td>\n",
       "      <td>1963</td>\n",
       "      <td>0</td>\n",
       "      <td>98024</td>\n",
       "      <td>47.5308</td>\n",
       "      <td>-121.888</td>\n",
       "      <td>1620</td>\n",
       "      <td>22850</td>\n",
       "    </tr>\n",
       "    <tr>\n",
       "      <th>15381</th>\n",
       "      <td>2856101479</td>\n",
       "      <td>20140701T000000</td>\n",
       "      <td>276000.0</td>\n",
       "      <td>1</td>\n",
       "      <td>0.75</td>\n",
       "      <td>370</td>\n",
       "      <td>1801</td>\n",
       "      <td>1.0</td>\n",
       "      <td>0</td>\n",
       "      <td>0</td>\n",
       "      <td>...</td>\n",
       "      <td>5</td>\n",
       "      <td>370</td>\n",
       "      <td>0</td>\n",
       "      <td>1923</td>\n",
       "      <td>0</td>\n",
       "      <td>98117</td>\n",
       "      <td>47.6778</td>\n",
       "      <td>-122.389</td>\n",
       "      <td>1340</td>\n",
       "      <td>5000</td>\n",
       "    </tr>\n",
       "    <tr>\n",
       "      <th>860</th>\n",
       "      <td>1723049033</td>\n",
       "      <td>20140620T000000</td>\n",
       "      <td>245000.0</td>\n",
       "      <td>1</td>\n",
       "      <td>0.75</td>\n",
       "      <td>380</td>\n",
       "      <td>15000</td>\n",
       "      <td>1.0</td>\n",
       "      <td>0</td>\n",
       "      <td>0</td>\n",
       "      <td>...</td>\n",
       "      <td>5</td>\n",
       "      <td>380</td>\n",
       "      <td>0</td>\n",
       "      <td>1963</td>\n",
       "      <td>0</td>\n",
       "      <td>98168</td>\n",
       "      <td>47.4810</td>\n",
       "      <td>-122.323</td>\n",
       "      <td>1170</td>\n",
       "      <td>15000</td>\n",
       "    </tr>\n",
       "  </tbody>\n",
       "</table>\n",
       "<p>3 rows × 21 columns</p>\n",
       "</div>"
      ],
      "text/plain": [
       "               id             date     price  bedrooms  bathrooms  \\\n",
       "19452  3980300371  20140926T000000  142000.0         0       0.00   \n",
       "15381  2856101479  20140701T000000  276000.0         1       0.75   \n",
       "860    1723049033  20140620T000000  245000.0         1       0.75   \n",
       "\n",
       "       sqft_living  sqft_lot  floors  waterfront  view     ...      grade  \\\n",
       "19452          290     20875     1.0           0     0     ...          1   \n",
       "15381          370      1801     1.0           0     0     ...          5   \n",
       "860            380     15000     1.0           0     0     ...          5   \n",
       "\n",
       "       sqft_above  sqft_basement  yr_built  yr_renovated  zipcode      lat  \\\n",
       "19452         290              0      1963             0    98024  47.5308   \n",
       "15381         370              0      1923             0    98117  47.6778   \n",
       "860           380              0      1963             0    98168  47.4810   \n",
       "\n",
       "          long  sqft_living15  sqft_lot15  \n",
       "19452 -121.888           1620       22850  \n",
       "15381 -122.389           1340        5000  \n",
       "860   -122.323           1170       15000  \n",
       "\n",
       "[3 rows x 21 columns]"
      ]
     },
     "execution_count": 8,
     "metadata": {},
     "output_type": "execute_result"
    }
   ],
   "source": [
    "# Load the exported sales dataframe\n",
    "sales = pd.read_csv(\"./data/sales.csv\")\n",
    "sales.sort_values(sortby, inplace=True)\n",
    "sales.head(n=3)"
   ]
  },
  {
   "cell_type": "code",
   "execution_count": 9,
   "metadata": {
    "collapsed": false
   },
   "outputs": [
    {
     "data": {
      "text/html": [
       "<div>\n",
       "<table border=\"1\" class=\"dataframe\">\n",
       "  <thead>\n",
       "    <tr style=\"text-align: right;\">\n",
       "      <th></th>\n",
       "      <th>power_1</th>\n",
       "      <th>power_2</th>\n",
       "      <th>power_3</th>\n",
       "      <th>power_4</th>\n",
       "      <th>power_5</th>\n",
       "      <th>power_6</th>\n",
       "      <th>power_7</th>\n",
       "      <th>power_8</th>\n",
       "      <th>power_9</th>\n",
       "      <th>power_10</th>\n",
       "      <th>power_11</th>\n",
       "      <th>power_12</th>\n",
       "      <th>power_13</th>\n",
       "      <th>power_14</th>\n",
       "      <th>power_15</th>\n",
       "    </tr>\n",
       "  </thead>\n",
       "  <tbody>\n",
       "    <tr>\n",
       "      <th>19452</th>\n",
       "      <td>290</td>\n",
       "      <td>84100</td>\n",
       "      <td>24389000</td>\n",
       "      <td>7072810000</td>\n",
       "      <td>2051114900000</td>\n",
       "      <td>594823321000000</td>\n",
       "      <td>172498763090000000</td>\n",
       "      <td>-5315590925028654848</td>\n",
       "      <td>8005133933292429824</td>\n",
       "      <td>-2800912632598854656</td>\n",
       "      <td>-607924210447579136</td>\n",
       "      <td>8169419707297566720</td>\n",
       "      <td>7948473681471741952</td>\n",
       "      <td>-785641586888785920</td>\n",
       "      <td>-6475131313233297408</td>\n",
       "    </tr>\n",
       "    <tr>\n",
       "      <th>15381</th>\n",
       "      <td>370</td>\n",
       "      <td>136900</td>\n",
       "      <td>50653000</td>\n",
       "      <td>18741610000</td>\n",
       "      <td>6934395700000</td>\n",
       "      <td>2565726409000000</td>\n",
       "      <td>949318771330000000</td>\n",
       "      <td>759807991618519296</td>\n",
       "      <td>4427795793208865280</td>\n",
       "      <td>-3475779072869940224</td>\n",
       "      <td>5233828197790730240</td>\n",
       "      <td>-391694556932730880</td>\n",
       "      <td>2646966524565987328</td>\n",
       "      <td>1700178182809075712</td>\n",
       "      <td>1876629133233258496</td>\n",
       "    </tr>\n",
       "    <tr>\n",
       "      <th>860</th>\n",
       "      <td>380</td>\n",
       "      <td>144400</td>\n",
       "      <td>54872000</td>\n",
       "      <td>20851360000</td>\n",
       "      <td>7923516800000</td>\n",
       "      <td>3010936384000000</td>\n",
       "      <td>1144155825920000000</td>\n",
       "      <td>-7942643919429238784</td>\n",
       "      <td>7061338705255727104</td>\n",
       "      <td>8530817309291315200</td>\n",
       "      <td>-4916379442181308416</td>\n",
       "      <td>-5103036584232484864</td>\n",
       "      <td>-2245774268841328640</td>\n",
       "      <td>-4843994769065508864</td>\n",
       "      <td>3956395126061793280</td>\n",
       "    </tr>\n",
       "    <tr>\n",
       "      <th>18379</th>\n",
       "      <td>384</td>\n",
       "      <td>147456</td>\n",
       "      <td>56623104</td>\n",
       "      <td>21743271936</td>\n",
       "      <td>8349416423424</td>\n",
       "      <td>3206175906594816</td>\n",
       "      <td>1231171548132409344</td>\n",
       "      <td>-6845471433603153920</td>\n",
       "      <td>-9223372036854775808</td>\n",
       "      <td>0</td>\n",
       "      <td>0</td>\n",
       "      <td>0</td>\n",
       "      <td>0</td>\n",
       "      <td>0</td>\n",
       "      <td>0</td>\n",
       "    </tr>\n",
       "    <tr>\n",
       "      <th>4868</th>\n",
       "      <td>390</td>\n",
       "      <td>152100</td>\n",
       "      <td>59319000</td>\n",
       "      <td>23134410000</td>\n",
       "      <td>9022419900000</td>\n",
       "      <td>3518743761000000</td>\n",
       "      <td>1372310066790000000</td>\n",
       "      <td>245347910523003136</td>\n",
       "      <td>3451964735423464960</td>\n",
       "      <td>-346070565645933568</td>\n",
       "      <td>-5840312085947230208</td>\n",
       "      <td>-8772192453144932352</td>\n",
       "      <td>-8507403090256568320</td>\n",
       "      <td>2526728067657646080</td>\n",
       "      <td>7746510479875735552</td>\n",
       "    </tr>\n",
       "  </tbody>\n",
       "</table>\n",
       "</div>"
      ],
      "text/plain": [
       "       power_1  power_2   power_3      power_4        power_5  \\\n",
       "19452      290    84100  24389000   7072810000  2051114900000   \n",
       "15381      370   136900  50653000  18741610000  6934395700000   \n",
       "860        380   144400  54872000  20851360000  7923516800000   \n",
       "18379      384   147456  56623104  21743271936  8349416423424   \n",
       "4868       390   152100  59319000  23134410000  9022419900000   \n",
       "\n",
       "                power_6              power_7              power_8  \\\n",
       "19452   594823321000000   172498763090000000 -5315590925028654848   \n",
       "15381  2565726409000000   949318771330000000   759807991618519296   \n",
       "860    3010936384000000  1144155825920000000 -7942643919429238784   \n",
       "18379  3206175906594816  1231171548132409344 -6845471433603153920   \n",
       "4868   3518743761000000  1372310066790000000   245347910523003136   \n",
       "\n",
       "                   power_9             power_10             power_11  \\\n",
       "19452  8005133933292429824 -2800912632598854656  -607924210447579136   \n",
       "15381  4427795793208865280 -3475779072869940224  5233828197790730240   \n",
       "860    7061338705255727104  8530817309291315200 -4916379442181308416   \n",
       "18379 -9223372036854775808                    0                    0   \n",
       "4868   3451964735423464960  -346070565645933568 -5840312085947230208   \n",
       "\n",
       "                  power_12             power_13             power_14  \\\n",
       "19452  8169419707297566720  7948473681471741952  -785641586888785920   \n",
       "15381  -391694556932730880  2646966524565987328  1700178182809075712   \n",
       "860   -5103036584232484864 -2245774268841328640 -4843994769065508864   \n",
       "18379                    0                    0                    0   \n",
       "4868  -8772192453144932352 -8507403090256568320  2526728067657646080   \n",
       "\n",
       "                  power_15  \n",
       "19452 -6475131313233297408  \n",
       "15381  1876629133233258496  \n",
       "860    3956395126061793280  \n",
       "18379                    0  \n",
       "4868   7746510479875735552  "
      ]
     },
     "execution_count": 9,
     "metadata": {},
     "output_type": "execute_result"
    }
   ],
   "source": [
    "l2_small_penalty = 1.5e-5\n",
    "\n",
    "poly15_data = polynomial_dataframe(sales, feature='sqft_living', degree=15)\n",
    "poly15_data.head()"
   ]
  },
  {
   "cell_type": "code",
   "execution_count": 10,
   "metadata": {
    "collapsed": true
   },
   "outputs": [],
   "source": [
    "def fit_ridge_model(features, output, alpha):\n",
    "    \"\"\"\n",
    "    Fit a ridge regression model with a given alpha value.\n",
    "    \"\"\"\n",
    "    model = Ridge(alpha=alpha, normalize=True)\n",
    "    model.fit(features, output)\n",
    "    \n",
    "    # Create a list of the ridge coeff. to print out the polynomial using np.poly1d\n",
    "    coefs = list(model.coef_)\n",
    "    coefs.reverse()\n",
    "    coefs.append(model.intercept_)\n",
    "    print np.poly1d(coefs)\n",
    "    \n",
    "    return coefs\n"
   ]
  },
  {
   "cell_type": "markdown",
   "metadata": {},
   "source": [
    "### Q4: What’s the learned value for the coefficient of feature power_1?\n",
    "\n",
    "Answer: 70.1"
   ]
  },
  {
   "cell_type": "code",
   "execution_count": 11,
   "metadata": {
    "collapsed": false
   },
   "outputs": [
    {
     "name": "stdout",
     "output_type": "stream",
     "text": [
      "           15             14            13             12\n",
      "6.706e-17 x  - 4.081e-16 x  + 4.48e-16 x  + 6.762e-16 x \n",
      "              11             10             9             8\n",
      " + 2.168e-16 x  - 2.504e-16 x  - 1.993e-16 x + 3.422e-16 x\n",
      "              7             6             5             4             3\n",
      " - 4.609e-16 x - 1.578e-16 x - 1.947e-14 x - 6.277e-10 x + 8.655e-06 x\n",
      "            2\n",
      " + 0.01379 x + 70.1 x + 2.278e+05\n"
     ]
    }
   ],
   "source": [
    "_ = fit_ridge_model(poly15_data, sales['price'], l2_small_penalty)"
   ]
  },
  {
   "cell_type": "markdown",
   "metadata": {},
   "source": [
    "### Q2:\n",
    "Next, we split the sales data frame into four subsets (set_1, set_2, set_3, set_4) and fit a 15th order polynomial model using each of the subsets\n",
    "\n",
    "For the models learned in each of these training sets, what are the smallest value you learned for the coefficient of feature power_1? Choose the range that contains this value.\n",
    "\n",
    "Answer: Between -1000 and -100 (-343.6)\n",
    "\n",
    "### Q3: \n",
    "This question refer to the same models as the previous question.\n",
    "\n",
    "For the models learned in each of these training sets, what are the largest value you learned for the coefficient of feature power_1? Choose the range that contains this value.\n",
    "\n",
    "Answer: Between 1000 and 10000 (+1950)"
   ]
  },
  {
   "cell_type": "code",
   "execution_count": 12,
   "metadata": {
    "collapsed": false
   },
   "outputs": [
    {
     "name": "stdout",
     "output_type": "stream",
     "text": [
      "Set 1\n",
      "           15             14             13            12\n",
      "1.081e-49 x  - 1.075e-45 x  - 5.387e-42 x  + 2.19e-38 x \n",
      "              11             10             9             8\n",
      " + 4.131e-34 x  + 1.646e-30 x  - 1.159e-26 x - 1.581e-22 x\n",
      "              7             6             5             4            3\n",
      " - 1.224e-19 x + 7.646e-15 x + 8.892e-12 x - 3.144e-07 x + 0.001278 x\n",
      "          2\n",
      " - 2.241 x + 1950 x - 3.594e+05\n",
      "\n",
      "\n",
      "Set 2\n",
      "           15             14            13             12\n",
      "2.078e-53 x  + 6.401e-49 x  - 1.75e-45 x  - 1.456e-40 x \n",
      "              11             10             9             8\n",
      " - 1.715e-36 x  + 2.098e-33 x  + 3.195e-28 x + 3.026e-24 x\n",
      "              7             6         5             4             3\n",
      " - 2.667e-20 x - 4.933e-16 x + 5e-12 x - 1.475e-08 x + 1.779e-05 x\n",
      "            2\n",
      " + 0.01424 x + 97.27 x + 1.981e+05\n",
      "\n",
      "\n",
      "Set 3\n",
      "            15             14             13             12\n",
      "-7.254e-51 x  + 9.958e-47 x  + 5.311e-43 x  - 4.293e-39 x \n",
      "              11             10         9             8            7\n",
      " - 7.572e-35 x  - 2.257e-31 x  + 5e-27 x + 5.091e-23 x - 2.16e-19 x\n",
      "              6             5             4             3          2\n",
      " - 4.282e-15 x + 2.917e-11 x - 3.543e-08 x - 0.0001411 x + 0.4645 x - 343.6 x + 3.553e+05\n",
      "\n",
      "\n",
      "Set 4\n",
      "            15             14             13            12\n",
      "-2.956e-53 x  - 1.018e-49 x  + 1.906e-45 x  + 5.11e-41 x \n",
      "              11             10             9             8\n",
      " + 6.786e-37 x  + 4.179e-33 x  - 4.449e-29 x - 1.498e-24 x\n",
      "              7             6             5             4             3\n",
      " - 1.298e-20 x + 1.435e-16 x + 2.944e-12 x - 4.211e-08 x + 0.0002154 x\n",
      "           2\n",
      " - 0.4796 x + 625.5 x - 4333\n",
      "\n",
      "\n"
     ]
    }
   ],
   "source": [
    "l2_small_penalty=1e-9\n",
    "\n",
    "for i, setdata in enumerate([set_1, set_2, set_3, set_4]):\n",
    "    poly_features = polynomial_dataframe(setdata, feature='sqft_living', degree=15)\n",
    "    print \"Set %i\" % (i+1)\n",
    "    \n",
    "    _ = fit_ridge_model(poly_features, setdata['price'], alpha=l2_small_penalty)\n",
    "    print \"\\n\""
   ]
  },
  {
   "cell_type": "markdown",
   "metadata": {},
   "source": [
    "### Q4: \n",
    "\n",
    "Using the same 4 subsets (set_1, set_2, set_3, set_4), we train 15th order polynomial models again, but this time we apply a large L2 penalty.\n",
    "\n",
    "For the models learned with the high level of regularization in each of these training sets, what are the smallest value you learned for the coefficient of feature power_1? Round your answer to 2 decimal places, and use American-style decimals. Example: 2.11\n",
    "\n",
    "Answer: 2.17\n"
   ]
  },
  {
   "cell_type": "code",
   "execution_count": 13,
   "metadata": {
    "collapsed": false
   },
   "outputs": [
    {
     "name": "stdout",
     "output_type": "stream",
     "text": [
      "Set 1\n",
      "           15             14             13             12\n",
      "1.025e-54 x  + 8.236e-51 x  + 6.624e-47 x  + 5.338e-43 x \n",
      "              11             10             9             8\n",
      " + 4.314e-39 x  + 3.501e-35 x  + 2.857e-31 x + 2.346e-27 x\n",
      "              7            6             5             4             3\n",
      " + 1.941e-23 x + 1.61e-19 x + 1.319e-15 x + 1.027e-11 x + 7.101e-08 x\n",
      "              2\n",
      " + 0.0004112 x + 2.219 x + 5.35e+05\n",
      "\n",
      "\n",
      "Set 2\n",
      "           15             14             13             12\n",
      "3.162e-57 x  + 3.835e-53 x  + 4.662e-49 x  + 5.687e-45 x \n",
      "              11             10            9            8             7\n",
      " + 6.968e-41 x  + 8.595e-37 x  + 1.07e-32 x + 1.35e-28 x + 1.738e-24 x\n",
      "            6             5             4             3             2\n",
      " + 2.3e-20 x + 3.143e-16 x + 4.298e-12 x + 5.035e-08 x + 0.0003907 x + 2.231 x + 5.285e+05\n",
      "\n",
      "\n",
      "Set 3\n",
      "           15             14             13             12\n",
      "5.394e-56 x  + 5.329e-52 x  + 5.275e-48 x  + 5.238e-44 x \n",
      "              11            10             9             8\n",
      " + 5.223e-40 x  + 5.24e-36 x  + 5.305e-32 x + 5.442e-28 x\n",
      "              7             6             5             4             3\n",
      " + 5.688e-24 x + 6.087e-20 x + 6.627e-16 x + 6.991e-12 x + 6.235e-08 x\n",
      "              2\n",
      " + 0.0004065 x + 2.221 x + 5.313e+05\n",
      "\n",
      "\n",
      "Set 4\n",
      "           15             14             13             12\n",
      "1.216e-58 x  + 1.677e-54 x  + 2.326e-50 x  + 3.254e-46 x \n",
      "              11             10             9             8\n",
      " + 4.604e-42 x  + 6.613e-38 x  + 9.707e-34 x + 1.471e-29 x\n",
      "              7             6             5             4             3\n",
      " + 2.341e-25 x + 4.018e-21 x + 7.678e-17 x + 1.628e-12 x + 3.162e-08 x\n",
      "             2\n",
      " + 0.000344 x + 2.165 x + 5.329e+05\n",
      "\n",
      "\n",
      "Min. coeff.: 2.17\n",
      "Max. coeff.: 2.23\n"
     ]
    }
   ],
   "source": [
    "l2_large_penalty = 1.23e2\n",
    "pow1_coefs = []\n",
    "\n",
    "for i, setdata in enumerate([set_1, set_2, set_3, set_4]):\n",
    "    poly_features = polynomial_dataframe(setdata, feature='sqft_living', degree=15)\n",
    "    print \"Set %i\" % (i+1)\n",
    "    coefs = fit_ridge_model(poly_features, setdata['price'], alpha=l2_large_penalty)\n",
    "    pow1_coefs.append(coefs[-2])\n",
    "    print \"\\n\"\n",
    "\n",
    "print \"Min. coeff.: %.2f\" % (min(pow1_coefs))\n",
    "print \"Max. coeff.: %.2f\" % (max(pow1_coefs))\n"
   ]
  },
  {
   "cell_type": "markdown",
   "metadata": {},
   "source": [
    "## Selecting an L2 penalty via cross-validation\n",
    "\n",
    "Just like the polynomial degree, the L2 penalty is a \"magic\" parameter we need to select. We could use the validation set approach as we did in the last module, but that approach has a major disadvantage: it leaves fewer observations available for training. Cross-validation seeks to overcome this issue by using all of the training set in a smart way."
   ]
  },
  {
   "cell_type": "code",
   "execution_count": 14,
   "metadata": {
    "collapsed": false
   },
   "outputs": [
    {
     "data": {
      "text/html": [
       "<div style=\"max-height:1000px;max-width:1500px;overflow:auto;\"><table frame=\"box\" rules=\"cols\">\n",
       "    <tr>\n",
       "        <th style=\"padding-left: 1em; padding-right: 1em; text-align: center\">id</th>\n",
       "        <th style=\"padding-left: 1em; padding-right: 1em; text-align: center\">date</th>\n",
       "        <th style=\"padding-left: 1em; padding-right: 1em; text-align: center\">price</th>\n",
       "        <th style=\"padding-left: 1em; padding-right: 1em; text-align: center\">bedrooms</th>\n",
       "        <th style=\"padding-left: 1em; padding-right: 1em; text-align: center\">bathrooms</th>\n",
       "        <th style=\"padding-left: 1em; padding-right: 1em; text-align: center\">sqft_living</th>\n",
       "        <th style=\"padding-left: 1em; padding-right: 1em; text-align: center\">sqft_lot</th>\n",
       "        <th style=\"padding-left: 1em; padding-right: 1em; text-align: center\">floors</th>\n",
       "        <th style=\"padding-left: 1em; padding-right: 1em; text-align: center\">waterfront</th>\n",
       "    </tr>\n",
       "    <tr>\n",
       "        <td style=\"padding-left: 1em; padding-right: 1em; text-align: center; vertical-align: top\">7224000950</td>\n",
       "        <td style=\"padding-left: 1em; padding-right: 1em; text-align: center; vertical-align: top\">2014-11-03 00:00:00+00:00</td>\n",
       "        <td style=\"padding-left: 1em; padding-right: 1em; text-align: center; vertical-align: top\">238950.0</td>\n",
       "        <td style=\"padding-left: 1em; padding-right: 1em; text-align: center; vertical-align: top\">2.0</td>\n",
       "        <td style=\"padding-left: 1em; padding-right: 1em; text-align: center; vertical-align: top\">1.0</td>\n",
       "        <td style=\"padding-left: 1em; padding-right: 1em; text-align: center; vertical-align: top\">810.0</td>\n",
       "        <td style=\"padding-left: 1em; padding-right: 1em; text-align: center; vertical-align: top\">4838</td>\n",
       "        <td style=\"padding-left: 1em; padding-right: 1em; text-align: center; vertical-align: top\">1</td>\n",
       "        <td style=\"padding-left: 1em; padding-right: 1em; text-align: center; vertical-align: top\">0</td>\n",
       "    </tr>\n",
       "    <tr>\n",
       "        <td style=\"padding-left: 1em; padding-right: 1em; text-align: center; vertical-align: top\">5700002460</td>\n",
       "        <td style=\"padding-left: 1em; padding-right: 1em; text-align: center; vertical-align: top\">2014-07-25 00:00:00+00:00</td>\n",
       "        <td style=\"padding-left: 1em; padding-right: 1em; text-align: center; vertical-align: top\">675000.0</td>\n",
       "        <td style=\"padding-left: 1em; padding-right: 1em; text-align: center; vertical-align: top\">3.0</td>\n",
       "        <td style=\"padding-left: 1em; padding-right: 1em; text-align: center; vertical-align: top\">2.5</td>\n",
       "        <td style=\"padding-left: 1em; padding-right: 1em; text-align: center; vertical-align: top\">2550.0</td>\n",
       "        <td style=\"padding-left: 1em; padding-right: 1em; text-align: center; vertical-align: top\">4954</td>\n",
       "        <td style=\"padding-left: 1em; padding-right: 1em; text-align: center; vertical-align: top\">1.5</td>\n",
       "        <td style=\"padding-left: 1em; padding-right: 1em; text-align: center; vertical-align: top\">0</td>\n",
       "    </tr>\n",
       "    <tr>\n",
       "        <td style=\"padding-left: 1em; padding-right: 1em; text-align: center; vertical-align: top\">3423059081</td>\n",
       "        <td style=\"padding-left: 1em; padding-right: 1em; text-align: center; vertical-align: top\">2014-10-09 00:00:00+00:00</td>\n",
       "        <td style=\"padding-left: 1em; padding-right: 1em; text-align: center; vertical-align: top\">151600.0</td>\n",
       "        <td style=\"padding-left: 1em; padding-right: 1em; text-align: center; vertical-align: top\">2.0</td>\n",
       "        <td style=\"padding-left: 1em; padding-right: 1em; text-align: center; vertical-align: top\">1.0</td>\n",
       "        <td style=\"padding-left: 1em; padding-right: 1em; text-align: center; vertical-align: top\">1060.0</td>\n",
       "        <td style=\"padding-left: 1em; padding-right: 1em; text-align: center; vertical-align: top\">16988</td>\n",
       "        <td style=\"padding-left: 1em; padding-right: 1em; text-align: center; vertical-align: top\">1</td>\n",
       "        <td style=\"padding-left: 1em; padding-right: 1em; text-align: center; vertical-align: top\">0</td>\n",
       "    </tr>\n",
       "</table>\n",
       "<table frame=\"box\" rules=\"cols\">\n",
       "    <tr>\n",
       "        <th style=\"padding-left: 1em; padding-right: 1em; text-align: center\">view</th>\n",
       "        <th style=\"padding-left: 1em; padding-right: 1em; text-align: center\">condition</th>\n",
       "        <th style=\"padding-left: 1em; padding-right: 1em; text-align: center\">grade</th>\n",
       "        <th style=\"padding-left: 1em; padding-right: 1em; text-align: center\">sqft_above</th>\n",
       "        <th style=\"padding-left: 1em; padding-right: 1em; text-align: center\">sqft_basement</th>\n",
       "        <th style=\"padding-left: 1em; padding-right: 1em; text-align: center\">yr_built</th>\n",
       "        <th style=\"padding-left: 1em; padding-right: 1em; text-align: center\">yr_renovated</th>\n",
       "        <th style=\"padding-left: 1em; padding-right: 1em; text-align: center\">zipcode</th>\n",
       "        <th style=\"padding-left: 1em; padding-right: 1em; text-align: center\">lat</th>\n",
       "    </tr>\n",
       "    <tr>\n",
       "        <td style=\"padding-left: 1em; padding-right: 1em; text-align: center; vertical-align: top\">0</td>\n",
       "        <td style=\"padding-left: 1em; padding-right: 1em; text-align: center; vertical-align: top\">3</td>\n",
       "        <td style=\"padding-left: 1em; padding-right: 1em; text-align: center; vertical-align: top\">5</td>\n",
       "        <td style=\"padding-left: 1em; padding-right: 1em; text-align: center; vertical-align: top\">810</td>\n",
       "        <td style=\"padding-left: 1em; padding-right: 1em; text-align: center; vertical-align: top\">0</td>\n",
       "        <td style=\"padding-left: 1em; padding-right: 1em; text-align: center; vertical-align: top\">1938</td>\n",
       "        <td style=\"padding-left: 1em; padding-right: 1em; text-align: center; vertical-align: top\">0</td>\n",
       "        <td style=\"padding-left: 1em; padding-right: 1em; text-align: center; vertical-align: top\">98055</td>\n",
       "        <td style=\"padding-left: 1em; padding-right: 1em; text-align: center; vertical-align: top\">47.49093449</td>\n",
       "    </tr>\n",
       "    <tr>\n",
       "        <td style=\"padding-left: 1em; padding-right: 1em; text-align: center; vertical-align: top\">0</td>\n",
       "        <td style=\"padding-left: 1em; padding-right: 1em; text-align: center; vertical-align: top\">4</td>\n",
       "        <td style=\"padding-left: 1em; padding-right: 1em; text-align: center; vertical-align: top\">7</td>\n",
       "        <td style=\"padding-left: 1em; padding-right: 1em; text-align: center; vertical-align: top\">1850</td>\n",
       "        <td style=\"padding-left: 1em; padding-right: 1em; text-align: center; vertical-align: top\">700</td>\n",
       "        <td style=\"padding-left: 1em; padding-right: 1em; text-align: center; vertical-align: top\">1924</td>\n",
       "        <td style=\"padding-left: 1em; padding-right: 1em; text-align: center; vertical-align: top\">0</td>\n",
       "        <td style=\"padding-left: 1em; padding-right: 1em; text-align: center; vertical-align: top\">98144</td>\n",
       "        <td style=\"padding-left: 1em; padding-right: 1em; text-align: center; vertical-align: top\">47.57580214</td>\n",
       "    </tr>\n",
       "    <tr>\n",
       "        <td style=\"padding-left: 1em; padding-right: 1em; text-align: center; vertical-align: top\">0</td>\n",
       "        <td style=\"padding-left: 1em; padding-right: 1em; text-align: center; vertical-align: top\">3</td>\n",
       "        <td style=\"padding-left: 1em; padding-right: 1em; text-align: center; vertical-align: top\">6</td>\n",
       "        <td style=\"padding-left: 1em; padding-right: 1em; text-align: center; vertical-align: top\">1060</td>\n",
       "        <td style=\"padding-left: 1em; padding-right: 1em; text-align: center; vertical-align: top\">0</td>\n",
       "        <td style=\"padding-left: 1em; padding-right: 1em; text-align: center; vertical-align: top\">1954</td>\n",
       "        <td style=\"padding-left: 1em; padding-right: 1em; text-align: center; vertical-align: top\">0</td>\n",
       "        <td style=\"padding-left: 1em; padding-right: 1em; text-align: center; vertical-align: top\">98058</td>\n",
       "        <td style=\"padding-left: 1em; padding-right: 1em; text-align: center; vertical-align: top\">47.43053113</td>\n",
       "    </tr>\n",
       "</table>\n",
       "<table frame=\"box\" rules=\"cols\">\n",
       "    <tr>\n",
       "        <th style=\"padding-left: 1em; padding-right: 1em; text-align: center\">long</th>\n",
       "        <th style=\"padding-left: 1em; padding-right: 1em; text-align: center\">sqft_living15</th>\n",
       "        <th style=\"padding-left: 1em; padding-right: 1em; text-align: center\">sqft_lot15</th>\n",
       "    </tr>\n",
       "    <tr>\n",
       "        <td style=\"padding-left: 1em; padding-right: 1em; text-align: center; vertical-align: top\">-122.20312038</td>\n",
       "        <td style=\"padding-left: 1em; padding-right: 1em; text-align: center; vertical-align: top\">890.0</td>\n",
       "        <td style=\"padding-left: 1em; padding-right: 1em; text-align: center; vertical-align: top\">4838.0</td>\n",
       "    </tr>\n",
       "    <tr>\n",
       "        <td style=\"padding-left: 1em; padding-right: 1em; text-align: center; vertical-align: top\">-122.28742411</td>\n",
       "        <td style=\"padding-left: 1em; padding-right: 1em; text-align: center; vertical-align: top\">1700.0</td>\n",
       "        <td style=\"padding-left: 1em; padding-right: 1em; text-align: center; vertical-align: top\">4954.0</td>\n",
       "    </tr>\n",
       "    <tr>\n",
       "        <td style=\"padding-left: 1em; padding-right: 1em; text-align: center; vertical-align: top\">-122.15747757</td>\n",
       "        <td style=\"padding-left: 1em; padding-right: 1em; text-align: center; vertical-align: top\">2320.0</td>\n",
       "        <td style=\"padding-left: 1em; padding-right: 1em; text-align: center; vertical-align: top\">10580.0</td>\n",
       "    </tr>\n",
       "</table>\n",
       "[3 rows x 21 columns]<br/>\n",
       "</div>"
      ],
      "text/plain": [
       "Columns:\n",
       "\tid\tstr\n",
       "\tdate\tdatetime\n",
       "\tprice\tfloat\n",
       "\tbedrooms\tfloat\n",
       "\tbathrooms\tfloat\n",
       "\tsqft_living\tfloat\n",
       "\tsqft_lot\tint\n",
       "\tfloors\tstr\n",
       "\twaterfront\tint\n",
       "\tview\tint\n",
       "\tcondition\tint\n",
       "\tgrade\tint\n",
       "\tsqft_above\tint\n",
       "\tsqft_basement\tint\n",
       "\tyr_built\tint\n",
       "\tyr_renovated\tint\n",
       "\tzipcode\tstr\n",
       "\tlat\tfloat\n",
       "\tlong\tfloat\n",
       "\tsqft_living15\tfloat\n",
       "\tsqft_lot15\tfloat\n",
       "\n",
       "Rows: 3\n",
       "\n",
       "Data:\n",
       "+------------+---------------------------+----------+----------+-----------+\n",
       "|     id     |            date           |  price   | bedrooms | bathrooms |\n",
       "+------------+---------------------------+----------+----------+-----------+\n",
       "| 7224000950 | 2014-11-03 00:00:00+00:00 | 238950.0 |   2.0    |    1.0    |\n",
       "| 5700002460 | 2014-07-25 00:00:00+00:00 | 675000.0 |   3.0    |    2.5    |\n",
       "| 3423059081 | 2014-10-09 00:00:00+00:00 | 151600.0 |   2.0    |    1.0    |\n",
       "+------------+---------------------------+----------+----------+-----------+\n",
       "+-------------+----------+--------+------------+------+-----------+-------+------------+\n",
       "| sqft_living | sqft_lot | floors | waterfront | view | condition | grade | sqft_above |\n",
       "+-------------+----------+--------+------------+------+-----------+-------+------------+\n",
       "|    810.0    |   4838   |   1    |     0      |  0   |     3     |   5   |    810     |\n",
       "|    2550.0   |   4954   |  1.5   |     0      |  0   |     4     |   7   |    1850    |\n",
       "|    1060.0   |  16988   |   1    |     0      |  0   |     3     |   6   |    1060    |\n",
       "+-------------+----------+--------+------------+------+-----------+-------+------------+\n",
       "+---------------+----------+--------------+---------+-------------+\n",
       "| sqft_basement | yr_built | yr_renovated | zipcode |     lat     |\n",
       "+---------------+----------+--------------+---------+-------------+\n",
       "|       0       |   1938   |      0       |  98055  | 47.49093449 |\n",
       "|      700      |   1924   |      0       |  98144  | 47.57580214 |\n",
       "|       0       |   1954   |      0       |  98058  | 47.43053113 |\n",
       "+---------------+----------+--------------+---------+-------------+\n",
       "+---------------+---------------+-----+\n",
       "|      long     | sqft_living15 | ... |\n",
       "+---------------+---------------+-----+\n",
       "| -122.20312038 |     890.0     | ... |\n",
       "| -122.28742411 |     1700.0    | ... |\n",
       "| -122.15747757 |     2320.0    | ... |\n",
       "+---------------+---------------+-----+\n",
       "[3 rows x 21 columns]"
      ]
     },
     "execution_count": 14,
     "metadata": {},
     "output_type": "execute_result"
    }
   ],
   "source": [
    "(train_valid, test) = sales_SFrame.random_split(.9, seed=1)\n",
    "train_valid_shuffled = gl.toolkits.cross_validation.shuffle(train_valid, random_seed=0)\n",
    "\n",
    "# Export to CSV\n",
    "train_valid_shuffled.export_csv(\"./data/train_valid_shuffle.csv\")\n",
    "train_valid_shuffled.head(3)"
   ]
  },
  {
   "cell_type": "code",
   "execution_count": 15,
   "metadata": {
    "collapsed": false
   },
   "outputs": [],
   "source": [
    "# Read to pandas df\n",
    "train_valid_shuffled = pd.read_csv(\"./data/train_valid_shuffle.csv\", dtype=dtype_dict)"
   ]
  },
  {
   "cell_type": "markdown",
   "metadata": {},
   "source": [
    "### Dividing the CV sets\n",
    "\n",
    "Divide the combined training and validation set into equal segments. Each segment should receive n/k elements, where n is the number of observations in the training set and k is the number of segments. Since the segment 0 starts at index 0 and contains n/k elements, it ends at index (n/k)-1. The segment 1 starts where the segment 0 left off, at index (n/k). With n/k elements, the segment 1 ends at index (n*2/k)-1. Continuing in this fashion, we deduce that the segment i starts at index (n*i/k) and ends at (n*(i+1)/k)-1.\n",
    "\n",
    "With this pattern in mind, we write a short loop that prints the starting and ending indices of each segment, just to make sure you are getting the splits right."
   ]
  },
  {
   "cell_type": "code",
   "execution_count": 16,
   "metadata": {
    "collapsed": false
   },
   "outputs": [
    {
     "name": "stdout",
     "output_type": "stream",
     "text": [
      "0 (0, 1938)\n",
      "1 (1939, 3878)\n",
      "2 (3879, 5817)\n",
      "3 (5818, 7757)\n",
      "4 (7758, 9697)\n",
      "5 (9698, 11636)\n",
      "6 (11637, 13576)\n",
      "7 (13577, 15515)\n",
      "8 (15516, 17455)\n",
      "9 (17456, 19395)\n"
     ]
    }
   ],
   "source": [
    "n = len(train_valid_shuffled)\n",
    "k = 10 # 10-fold cross-validation\n",
    "\n",
    "for i in xrange(k):\n",
    "    start = (n*i)/k\n",
    "    end = (n*(i+1))/k-1\n",
    "    print i, (start, end)"
   ]
  },
  {
   "cell_type": "markdown",
   "metadata": {},
   "source": [
    "If the observations are grouped into 10 segments, the segment i is given by\n",
    "\n",
    "```python\n",
    "start = (n*i)/10\n",
    "end = (n*(i+1))/10\n",
    "train_valid_shuffled[start:end+1]\n",
    "```\n",
    "\n",
    "Meanwhile, to choose the remainder of the data that's not part of the segment i, we select two slices (0:start) and (end+1:n) and paste them together.\n",
    "\n",
    "```python\n",
    "train_valid_shuffled[0:start].append(train_valid_shuffled[end+1:n])\n",
    "```\n"
   ]
  },
  {
   "cell_type": "markdown",
   "metadata": {},
   "source": [
    "# Graphlab vs scikit-learn\n",
    "\n",
    "In order to produce same results using Ridge (sklearn) and graphlab, the alpha in Ridge needs to be scaled. Look inside the function:\n",
    "```python\n",
    "def fit_sklearn_model\n",
    "```\n",
    "to see how I have assigned th L2_penalty.\n"
   ]
  },
  {
   "cell_type": "code",
   "execution_count": 17,
   "metadata": {
    "collapsed": true
   },
   "outputs": [],
   "source": [
    "def polynomial_sframe(feature, degree):\n",
    "    # assume that degree >= 1\n",
    "    # initialize the SFrame:\n",
    "    poly_sframe = gl.SFrame()\n",
    "    # and set poly_sframe['power_1'] equal to the passed feature\n",
    "    poly_sframe['power_1'] = feature\n",
    "    # first check if degree > 1\n",
    "    if degree > 1:\n",
    "        # then loop over the remaining degrees:\n",
    "        # range usually starts at 0 and stops at the endpoint-1. We want it to start at 2 and stop at degree\n",
    "        for power in range(2, degree+1): \n",
    "            # first we'll give the column a name:\n",
    "            name = 'power_' + str(power)\n",
    "            # then assign poly_sframe[name] to the appropriate power of feature\n",
    "            poly_sframe[name] = feature.apply(lambda x: x**power)\n",
    "\n",
    "    return poly_sframe"
   ]
  },
  {
   "cell_type": "code",
   "execution_count": 18,
   "metadata": {
    "collapsed": true
   },
   "outputs": [],
   "source": [
    "# Write my own K-Fold CV function\n",
    "\n",
    "def fit_sklearn_model(data, start, end, l2_penalty, features, output, factor=1E-4):\n",
    "    n = len(data)\n",
    "    valid_set = data[start:end+1]        \n",
    "    train_set = data[0:start].append(data[end+1:n])\n",
    "    \n",
    "    # Need to modify the L2-penalty when using sklearn\n",
    "    l2_penalty = l2_penalty*factor\n",
    "    \n",
    "    model = Ridge(alpha=l2_penalty, normalize=True) # Important to normalize\n",
    "    model.fit(train_set[features], train_set[output])\n",
    "    \n",
    "    # Predict \n",
    "    predicted = model.predict(valid_set[features])\n",
    "    actual = valid_set[output]\n",
    "    \n",
    "    # Calculate the rss for each fold\n",
    "    rss = np.sum((actual - predicted)**2)\n",
    "    \n",
    "    return rss\n",
    "\n",
    "def fit_gl_model(data, start, end, l2_penalty, features, output):\n",
    "    n = len(data)\n",
    "    \n",
    "    valid_set = data[start:end+1]        \n",
    "    train_set = data[0:start].append(data[end+1:n])\n",
    "    \n",
    "    model = gl.linear_regression.create(train_set, target=output, \n",
    "                                        features=features, validation_set=None,\n",
    "                                        verbose=False, l2_penalty=l2_penalty)\n",
    "    \n",
    "    # Predict \n",
    "    predicted = model.predict(valid_set)\n",
    "    actual = valid_set[output]\n",
    "        \n",
    "    # Calculate the rss for each fold\n",
    "    rss = sum((actual - predicted)**2)\n",
    "        \n",
    "    return rss\n",
    "    \n",
    "\n",
    "def k_fold_cross_validation(k, l2_penalty, data, sframedata,  features, output, factor):\n",
    "    \"\"\"\n",
    "    Execute a K-Fold CV and compute the average validation error using \n",
    "    both sklearn and graphlab. N.B: Input data should be shuffeled!\n",
    "    \n",
    "    Args:\n",
    "        k (int): K-number which you want to divide your data into.\n",
    "        l2_penalty (float): L2-penalty\n",
    "        data (pandas dataframe): Containing the features and output\n",
    "        sframedata (SFrame): Containing the features and output\n",
    "        feature (list): Specified features\n",
    "        output (string): Name of output\n",
    "        factor (float): Factor needed to scale from L2_penalty to alpha in sklearn rigde.\n",
    "        \n",
    "    Returns:\n",
    "        avg_valid_error (float): Average RSS error\n",
    "        \n",
    "    \"\"\"\n",
    "    # Number of feature rows\n",
    "    n = len(data)\n",
    "    # Store the rss for each model in lists\n",
    "    sk_rss_list = []\n",
    "    gl_rss_list = []\n",
    "    \n",
    "    # Create training and validation sets\n",
    "    for i in xrange(k):\n",
    "        start = (n*i)/k\n",
    "        end = (n*(i+1))/k-1\n",
    "                \n",
    "        # Train models and calculate the rss\n",
    "        sk_rss = fit_sklearn_model(data, start, end, l2_penalty, features, output, factor)\n",
    "        gl_rss = fit_gl_model(sframedata, start, end, l2_penalty, features, output)\n",
    "                \n",
    "        sk_rss_list.append(sk_rss)\n",
    "        gl_rss_list.append(gl_rss)\n",
    "              \n",
    "    \n",
    "    # Get the average RSS \n",
    "    sk_avg_err = np.mean(sk_rss_list)\n",
    "    gl_avg_err = np.mean(gl_rss_list)\n",
    "    \n",
    "    return (sk_avg_err, gl_avg_err)"
   ]
  },
  {
   "cell_type": "markdown",
   "metadata": {},
   "source": [
    "# Read in the SFrame data\n"
   ]
  },
  {
   "cell_type": "code",
   "execution_count": 19,
   "metadata": {
    "collapsed": false
   },
   "outputs": [],
   "source": [
    "sales_SF = gl.SFrame(\"./data/kc_house_data.gl/\")\n",
    "sales_SF.sort(['sqft_living', 'price'])\n",
    "\n",
    "# Shuffle data\n",
    "(train_valid, test) = sales_SF.random_split(.9, seed=1)\n",
    "train_valid_shuffled = gl.toolkits.cross_validation.shuffle(train_valid, random_seed=1)"
   ]
  },
  {
   "cell_type": "markdown",
   "metadata": {},
   "source": [
    "## Run the K-fold algorithm\n"
   ]
  },
  {
   "cell_type": "code",
   "execution_count": 20,
   "metadata": {
    "collapsed": false
   },
   "outputs": [],
   "source": [
    "# Set up the polynomial features\n",
    "polydata = polynomial_sframe(train_valid_shuffled['sqft_living'], degree=15)\n",
    "features = polydata.column_names()\n",
    "polydata['price'] = train_valid_shuffled['price']"
   ]
  },
  {
   "cell_type": "code",
   "execution_count": 21,
   "metadata": {
    "collapsed": false
   },
   "outputs": [],
   "source": [
    "# Save the error data and penalties\n",
    "sk_errors = []\n",
    "gl_errors = []\n",
    "penalties = []\n",
    "\n",
    "# Used to get same results using sklearn. Scaling the alhpa param. in sklearn\n",
    "sklearn_ridge_factor = 1.E-4\n",
    "\n",
    "# Loop over a range of L2-possibilities\n",
    "for penalty in np.logspace(1, 7, num=13):\n",
    "    skerr, glerr = k_fold_cross_validation(10, penalty, data=polydata.to_dataframe(), \n",
    "                                           sframedata=polydata, features=features, output='price',\n",
    "                                           factor=sklearn_ridge_factor)\n",
    "    penalties.append(penalty)\n",
    "    sk_errors.append(skerr)\n",
    "    gl_errors.append(glerr)"
   ]
  },
  {
   "cell_type": "code",
   "execution_count": 22,
   "metadata": {
    "collapsed": false
   },
   "outputs": [
    {
     "data": {
      "text/plain": [
       "<matplotlib.legend.Legend at 0x252bae80>"
      ]
     },
     "execution_count": 22,
     "metadata": {},
     "output_type": "execute_result"
    },
    {
     "data": {
      "image/png": "[encoded data removed]",
      "text/plain": [
       "<matplotlib.figure.Figure at 0x1603eef0>"
      ]
     },
     "metadata": {},
     "output_type": "display_data"
    }
   ],
   "source": [
    "plt.semilogx(penalties, sk_errors, \"-or\", label='sklearn')\n",
    "plt.semilogx(penalties, gl_errors, \"-ob\", label='graphlab')\n",
    "plt.legend(loc=0)"
   ]
  },
  {
   "cell_type": "code",
   "execution_count": 23,
   "metadata": {
    "collapsed": false
   },
   "outputs": [
    {
     "name": "stdout",
     "output_type": "stream",
     "text": [
      "Best sklearn alpha: 0.1\n",
      "Best L2 graphlab: 1000.000000\n"
     ]
    }
   ],
   "source": [
    "sk_best_L2 = penalties[sk_errors.index(min(sk_errors))]\n",
    "gl_best_L2 = penalties[gl_errors.index(min(gl_errors))]\n",
    "\n",
    "print \"Best sklearn alpha: %g\" % (sk_best_L2 * sklearn_ridge_factor)\n",
    "print \"Best L2 graphlab: %f\" % gl_best_L2"
   ]
  },
  {
   "cell_type": "markdown",
   "metadata": {},
   "source": [
    "**OBS: remeber that the L2_penalty is scaled in the sklearn model!**\n"
   ]
  },
  {
   "cell_type": "markdown",
   "metadata": {},
   "source": [
    "### RSS on test data using best alpha and L2"
   ]
  },
  {
   "cell_type": "code",
   "execution_count": 24,
   "metadata": {
    "collapsed": true
   },
   "outputs": [],
   "source": [
    "# Create the polynomial data sets\n",
    "polydata = polynomial_sframe(train_valid_shuffled['sqft_living'], degree=15)\n",
    "features = polydata.column_names()\n",
    "polydata['price'] = train_valid_shuffled['price']\n",
    "\n",
    "testpoly = polynomial_sframe(test['sqft_living'], degree=15)\n",
    "testpoly['price'] = test['price']\n",
    "\n",
    "polydata_df = polydata.to_dataframe()\n",
    "testpoly_df = testpoly.to_dataframe()"
   ]
  },
  {
   "cell_type": "code",
   "execution_count": 25,
   "metadata": {
    "collapsed": false
   },
   "outputs": [
    {
     "name": "stdout",
     "output_type": "stream",
     "text": [
      "1.37659663976e+14\n"
     ]
    }
   ],
   "source": [
    "# Sklearn\n",
    "sk_model = Ridge(alpha=0.1, normalize=True)\n",
    "sk_model.fit(polydata_df[features], polydata_df['price'])\n",
    "\n",
    "# RSS\n",
    "print np.sum((testpoly_df['price'] - sk_model.predict(testpoly_df[features]))**2)"
   ]
  },
  {
   "cell_type": "code",
   "execution_count": 26,
   "metadata": {
    "collapsed": false
   },
   "outputs": [
    {
     "name": "stdout",
     "output_type": "stream",
     "text": [
      "1.38704957785e+14\n"
     ]
    }
   ],
   "source": [
    "# Graphlab\n",
    "gl_model = gl.linear_regression.create(polydata, target='price', \n",
    "                                       features=features, validation_set=None,\n",
    "                                       verbose=False, l2_penalty=1000.)\n",
    "# RSS\n",
    "print sum((testpoly['price'] - gl_model.predict(testpoly[features]))**2)"
   ]
  }
 ],
 "metadata": {
  "kernelspec": {
   "display_name": "Python [gl-env]",
   "language": "python",
   "name": "Python [gl-env]"
  },
  "language_info": {
   "codemirror_mode": {
    "name": "ipython",
    "version": 2
   },
   "file_extension": ".py",
   "mimetype": "text/x-python",
   "name": "python",
   "nbconvert_exporter": "python",
   "pygments_lexer": "ipython2",
   "version": "2.7.11"
  }
 },
 "nbformat": 4,
 "nbformat_minor": 0
}
