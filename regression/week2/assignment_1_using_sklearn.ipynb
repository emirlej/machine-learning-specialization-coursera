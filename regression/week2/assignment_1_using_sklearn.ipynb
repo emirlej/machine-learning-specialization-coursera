{
 "cells": [
  {
   "cell_type": "code",
   "execution_count": 111,
   "metadata": {
    "collapsed": true
   },
   "outputs": [],
   "source": [
    "import pandas as pd\n",
    "import numpy as np\n",
    "import matplotlib.pylab as plt\n",
    "%matplotlib inline"
   ]
  },
  {
   "cell_type": "code",
   "execution_count": 112,
   "metadata": {
    "collapsed": true
   },
   "outputs": [],
   "source": [
    "dtype_dict = {'bathrooms':float, \n",
    "              'waterfront':int, \n",
    "              'sqft_above':int, \n",
    "              'sqft_living15':float, \n",
    "              'grade':int, \n",
    "              'yr_renovated':int, \n",
    "              'price':float, \n",
    "              'bedrooms':float, \n",
    "              'zipcode':str, 'long':float, \n",
    "              'sqft_lot15':float, \n",
    "              'sqft_living':float, \n",
    "              'floors':str, \n",
    "              'condition':int, \n",
    "              'lat':float, 'date':str, \n",
    "              'sqft_basement':int, \n",
    "              'yr_built':int, \n",
    "              'id':str, \n",
    "              'sqft_lot':int, \n",
    "              'view':int}"
   ]
  },
  {
   "cell_type": "code",
   "execution_count": 113,
   "metadata": {
    "collapsed": true
   },
   "outputs": [],
   "source": [
    "# Read in the training and testing data\n",
    "data_train = pd.read_csv(\"data/kc_house_train_data.csv\", dtype=dtype_dict)\n",
    "data_test = pd.read_csv(\"data/kc_house_test_data.csv\", dtype=dtype_dict)"
   ]
  },
  {
   "cell_type": "code",
   "execution_count": 114,
   "metadata": {
    "collapsed": false
   },
   "outputs": [
    {
     "data": {
      "text/plain": [
       "id                object\n",
       "date              object\n",
       "price            float64\n",
       "bedrooms         float64\n",
       "bathrooms        float64\n",
       "sqft_living      float64\n",
       "sqft_lot           int32\n",
       "floors            object\n",
       "waterfront         int32\n",
       "view               int32\n",
       "condition          int32\n",
       "grade              int32\n",
       "sqft_above         int32\n",
       "sqft_basement      int32\n",
       "yr_built           int32\n",
       "yr_renovated       int32\n",
       "zipcode           object\n",
       "lat              float64\n",
       "long             float64\n",
       "sqft_living15    float64\n",
       "sqft_lot15       float64\n",
       "dtype: object"
      ]
     },
     "execution_count": 114,
     "metadata": {},
     "output_type": "execute_result"
    }
   ],
   "source": [
    "# Check that dtypes have changed: looks ok\n",
    "data_train.dtypes"
   ]
  },
  {
   "cell_type": "code",
   "execution_count": 115,
   "metadata": {
    "collapsed": false
   },
   "outputs": [
    {
     "data": {
      "text/html": [
       "<div>\n",
       "<table border=\"1\" class=\"dataframe\">\n",
       "  <thead>\n",
       "    <tr style=\"text-align: right;\">\n",
       "      <th></th>\n",
       "      <th>id</th>\n",
       "      <th>date</th>\n",
       "      <th>price</th>\n",
       "      <th>bedrooms</th>\n",
       "      <th>bathrooms</th>\n",
       "      <th>sqft_living</th>\n",
       "      <th>sqft_lot</th>\n",
       "      <th>floors</th>\n",
       "      <th>waterfront</th>\n",
       "      <th>view</th>\n",
       "      <th>...</th>\n",
       "      <th>grade</th>\n",
       "      <th>sqft_above</th>\n",
       "      <th>sqft_basement</th>\n",
       "      <th>yr_built</th>\n",
       "      <th>yr_renovated</th>\n",
       "      <th>zipcode</th>\n",
       "      <th>lat</th>\n",
       "      <th>long</th>\n",
       "      <th>sqft_living15</th>\n",
       "      <th>sqft_lot15</th>\n",
       "    </tr>\n",
       "  </thead>\n",
       "  <tbody>\n",
       "    <tr>\n",
       "      <th>0</th>\n",
       "      <td>7129300520</td>\n",
       "      <td>20141013T000000</td>\n",
       "      <td>221900.0</td>\n",
       "      <td>3.0</td>\n",
       "      <td>1.00</td>\n",
       "      <td>1180.0</td>\n",
       "      <td>5650</td>\n",
       "      <td>1</td>\n",
       "      <td>0</td>\n",
       "      <td>0</td>\n",
       "      <td>...</td>\n",
       "      <td>7</td>\n",
       "      <td>1180</td>\n",
       "      <td>0</td>\n",
       "      <td>1955</td>\n",
       "      <td>0</td>\n",
       "      <td>98178</td>\n",
       "      <td>47.5112</td>\n",
       "      <td>-122.257</td>\n",
       "      <td>1340.0</td>\n",
       "      <td>5650.0</td>\n",
       "    </tr>\n",
       "    <tr>\n",
       "      <th>1</th>\n",
       "      <td>6414100192</td>\n",
       "      <td>20141209T000000</td>\n",
       "      <td>538000.0</td>\n",
       "      <td>3.0</td>\n",
       "      <td>2.25</td>\n",
       "      <td>2570.0</td>\n",
       "      <td>7242</td>\n",
       "      <td>2</td>\n",
       "      <td>0</td>\n",
       "      <td>0</td>\n",
       "      <td>...</td>\n",
       "      <td>7</td>\n",
       "      <td>2170</td>\n",
       "      <td>400</td>\n",
       "      <td>1951</td>\n",
       "      <td>1991</td>\n",
       "      <td>98125</td>\n",
       "      <td>47.7210</td>\n",
       "      <td>-122.319</td>\n",
       "      <td>1690.0</td>\n",
       "      <td>7639.0</td>\n",
       "    </tr>\n",
       "    <tr>\n",
       "      <th>2</th>\n",
       "      <td>5631500400</td>\n",
       "      <td>20150225T000000</td>\n",
       "      <td>180000.0</td>\n",
       "      <td>2.0</td>\n",
       "      <td>1.00</td>\n",
       "      <td>770.0</td>\n",
       "      <td>10000</td>\n",
       "      <td>1</td>\n",
       "      <td>0</td>\n",
       "      <td>0</td>\n",
       "      <td>...</td>\n",
       "      <td>6</td>\n",
       "      <td>770</td>\n",
       "      <td>0</td>\n",
       "      <td>1933</td>\n",
       "      <td>0</td>\n",
       "      <td>98028</td>\n",
       "      <td>47.7379</td>\n",
       "      <td>-122.233</td>\n",
       "      <td>2720.0</td>\n",
       "      <td>8062.0</td>\n",
       "    </tr>\n",
       "    <tr>\n",
       "      <th>3</th>\n",
       "      <td>2487200875</td>\n",
       "      <td>20141209T000000</td>\n",
       "      <td>604000.0</td>\n",
       "      <td>4.0</td>\n",
       "      <td>3.00</td>\n",
       "      <td>1960.0</td>\n",
       "      <td>5000</td>\n",
       "      <td>1</td>\n",
       "      <td>0</td>\n",
       "      <td>0</td>\n",
       "      <td>...</td>\n",
       "      <td>7</td>\n",
       "      <td>1050</td>\n",
       "      <td>910</td>\n",
       "      <td>1965</td>\n",
       "      <td>0</td>\n",
       "      <td>98136</td>\n",
       "      <td>47.5208</td>\n",
       "      <td>-122.393</td>\n",
       "      <td>1360.0</td>\n",
       "      <td>5000.0</td>\n",
       "    </tr>\n",
       "    <tr>\n",
       "      <th>4</th>\n",
       "      <td>1954400510</td>\n",
       "      <td>20150218T000000</td>\n",
       "      <td>510000.0</td>\n",
       "      <td>3.0</td>\n",
       "      <td>2.00</td>\n",
       "      <td>1680.0</td>\n",
       "      <td>8080</td>\n",
       "      <td>1</td>\n",
       "      <td>0</td>\n",
       "      <td>0</td>\n",
       "      <td>...</td>\n",
       "      <td>8</td>\n",
       "      <td>1680</td>\n",
       "      <td>0</td>\n",
       "      <td>1987</td>\n",
       "      <td>0</td>\n",
       "      <td>98074</td>\n",
       "      <td>47.6168</td>\n",
       "      <td>-122.045</td>\n",
       "      <td>1800.0</td>\n",
       "      <td>7503.0</td>\n",
       "    </tr>\n",
       "  </tbody>\n",
       "</table>\n",
       "<p>5 rows × 21 columns</p>\n",
       "</div>"
      ],
      "text/plain": [
       "           id             date     price  bedrooms  bathrooms  sqft_living  \\\n",
       "0  7129300520  20141013T000000  221900.0       3.0       1.00       1180.0   \n",
       "1  6414100192  20141209T000000  538000.0       3.0       2.25       2570.0   \n",
       "2  5631500400  20150225T000000  180000.0       2.0       1.00        770.0   \n",
       "3  2487200875  20141209T000000  604000.0       4.0       3.00       1960.0   \n",
       "4  1954400510  20150218T000000  510000.0       3.0       2.00       1680.0   \n",
       "\n",
       "   sqft_lot floors  waterfront  view     ...      grade  sqft_above  \\\n",
       "0      5650      1           0     0     ...          7        1180   \n",
       "1      7242      2           0     0     ...          7        2170   \n",
       "2     10000      1           0     0     ...          6         770   \n",
       "3      5000      1           0     0     ...          7        1050   \n",
       "4      8080      1           0     0     ...          8        1680   \n",
       "\n",
       "   sqft_basement  yr_built  yr_renovated  zipcode      lat     long  \\\n",
       "0              0      1955             0    98178  47.5112 -122.257   \n",
       "1            400      1951          1991    98125  47.7210 -122.319   \n",
       "2              0      1933             0    98028  47.7379 -122.233   \n",
       "3            910      1965             0    98136  47.5208 -122.393   \n",
       "4              0      1987             0    98074  47.6168 -122.045   \n",
       "\n",
       "   sqft_living15  sqft_lot15  \n",
       "0         1340.0      5650.0  \n",
       "1         1690.0      7639.0  \n",
       "2         2720.0      8062.0  \n",
       "3         1360.0      5000.0  \n",
       "4         1800.0      7503.0  \n",
       "\n",
       "[5 rows x 21 columns]"
      ]
     },
     "execution_count": 115,
     "metadata": {},
     "output_type": "execute_result"
    }
   ],
   "source": [
    "data_train.head()"
   ]
  },
  {
   "cell_type": "markdown",
   "metadata": {},
   "source": [
    "## Feature engineering\n",
    "\n",
    "Add 4 new variables in both your train_data and test_data.\n",
    "\n",
    "1. bedrooms_squared = ‘bedrooms’*‘bedrooms’\n",
    "2. bed_bath_rooms = ‘bedrooms’*‘bathrooms’\n",
    "3. log_sqft_living = log(‘sqft_living’)\n",
    "4. lat_plus_long = ‘lat’ + ‘long’"
   ]
  },
  {
   "cell_type": "code",
   "execution_count": 116,
   "metadata": {
    "collapsed": false
   },
   "outputs": [
    {
     "data": {
      "text/plain": [
       "0    3.0\n",
       "1    3.0\n",
       "2    2.0\n",
       "Name: bedrooms, dtype: float64"
      ]
     },
     "execution_count": 116,
     "metadata": {},
     "output_type": "execute_result"
    }
   ],
   "source": [
    "data_train['bedrooms'].head(n=3)"
   ]
  },
  {
   "cell_type": "code",
   "execution_count": 117,
   "metadata": {
    "collapsed": true
   },
   "outputs": [],
   "source": [
    "# Train data\n",
    "data_train['bedrooms_squared'] = data_train['bedrooms']**2\n",
    "data_train['bed_bath_rooms'] = data_train['bedrooms']*data_train['bathrooms']\n",
    "data_train['log_sqft_living'] = data_train['sqft_living'].apply(np.log)\n",
    "data_train['lat_plus_long'] = data_train['lat'] + data_train['long']\n",
    "\n",
    "# Test data\n",
    "data_test['bedrooms_squared'] = data_test['bedrooms']**2\n",
    "data_test['bed_bath_rooms'] = data_test['bedrooms']*data_test['bathrooms']\n",
    "data_test['log_sqft_living'] = data_test['sqft_living'].apply(np.log)\n",
    "data_test['lat_plus_long'] = data_test['lat'] + data_test['long']\n",
    "\n",
    "# Add those two together to create a full data frame\n",
    "data = pd.concat([data_train, data_test])"
   ]
  },
  {
   "cell_type": "code",
   "execution_count": 118,
   "metadata": {
    "collapsed": false
   },
   "outputs": [
    {
     "name": "stdout",
     "output_type": "stream",
     "text": [
      "(17384, 25)\n",
      "(4229, 25)\n",
      "(21613, 25)\n"
     ]
    }
   ],
   "source": [
    "print data_train.shape\n",
    "print data_test.shape\n",
    "print data.shape # Seems that the dataframes are simply added"
   ]
  },
  {
   "cell_type": "markdown",
   "metadata": {},
   "source": [
    "### Let’s explain these new variables:\n",
    "\n",
    "- Squaring bedrooms will increase the separation between not many bedrooms (e.g. 1) and lots of bedrooms (e.g. 4) since 1^2 = 1 but 4^2 = 16. Consequently this variable will mostly affect houses with many bedrooms.\n",
    "\n",
    "- Bedrooms times bathrooms is what's called an \"interaction\" variable. It is large when both of them are large.\n",
    "\n",
    "- Taking the log of square feet has the effect of bringing large values closer together and spreading out small values.\n",
    "\n",
    "- Adding latitude to longitude is non-sensical but we will do it anyway (you'll see why)"
   ]
  },
  {
   "cell_type": "markdown",
   "metadata": {},
   "source": [
    "# Q4 Quiz Question \n",
    "\n",
    "What are the mean (arithmetic average) values of your 4 new variables on TEST data? (round to 2 digits)"
   ]
  },
  {
   "cell_type": "code",
   "execution_count": 119,
   "metadata": {
    "collapsed": false
   },
   "outputs": [
    {
     "data": {
      "text/plain": [
       "bedrooms_squared    12.446678\n",
       "bed_bath_rooms       7.503902\n",
       "log_sqft_living      7.550275\n",
       "lat_plus_long      -74.653334\n",
       "dtype: float64"
      ]
     },
     "execution_count": 119,
     "metadata": {},
     "output_type": "execute_result"
    }
   ],
   "source": [
    "features = ['bedrooms_squared', 'bed_bath_rooms', \n",
    "            'log_sqft_living', 'lat_plus_long']\n",
    "data_test[features].mean()"
   ]
  },
  {
   "cell_type": "markdown",
   "metadata": {},
   "source": [
    "# Linear regression estimation\n",
    "\n",
    "- Model 1: ‘sqft_living’, ‘bedrooms’, ‘bathrooms’, ‘lat’, and ‘long’\n",
    "- Model 2: ‘sqft_living’, ‘bedrooms’, ‘bathrooms’, ‘lat’,‘long’, and ‘bed_bath_rooms’\n",
    "- Model 3: ‘sqft_living’, ‘bedrooms’, ‘bathrooms’, ‘lat’,‘long’, ‘bed_bath_rooms’, ‘bedrooms_squared’, ‘log_sqft_living’, and ‘lat_plus_long’\n",
    "\n",
    "## Setting up the features"
   ]
  },
  {
   "cell_type": "code",
   "execution_count": 120,
   "metadata": {
    "collapsed": false
   },
   "outputs": [],
   "source": [
    "features1 = ['sqft_living', 'bedrooms', 'bathrooms', 'lat', 'long']\n",
    "\n",
    "# Need first to create a copy, then add extra features\n",
    "features2 = features1[:]\n",
    "features2.append('bed_bath_rooms')\n",
    "\n",
    "features3 = features2[:]\n",
    "features3 += ['bedrooms_squared', 'log_sqft_living', 'lat_plus_long']"
   ]
  },
  {
   "cell_type": "code",
   "execution_count": 121,
   "metadata": {
    "collapsed": true
   },
   "outputs": [],
   "source": [
    "def fitModel(features, target, model):\n",
    "    \"\"\"\n",
    "    Fit a linear regression model\n",
    "    \"\"\"\n",
    "    model.fit(features, target)\n",
    "    return model"
   ]
  },
  {
   "cell_type": "code",
   "execution_count": 122,
   "metadata": {
    "collapsed": true
   },
   "outputs": [],
   "source": [
    "from sklearn.linear_model import LinearRegression"
   ]
  },
  {
   "cell_type": "markdown",
   "metadata": {},
   "source": [
    "## Fit all three models"
   ]
  },
  {
   "cell_type": "code",
   "execution_count": 123,
   "metadata": {
    "collapsed": false
   },
   "outputs": [],
   "source": [
    "target = data_train['price']\n",
    "\n",
    "model1 = fitModel(data_train[features1], target, model=LinearRegression())\n",
    "model2 = fitModel(data_train[features2], target, model=LinearRegression())\n",
    "model3 = fitModel(data_train[features3], target, model=LinearRegression())"
   ]
  },
  {
   "cell_type": "code",
   "execution_count": 124,
   "metadata": {
    "collapsed": false
   },
   "outputs": [],
   "source": [
    "def present_coeff(featureNames, model):\n",
    "    print \"Intercept: %e\" % model.intercept_\n",
    "    for i, f in enumerate(featureNames):\n",
    "        print \"%s: %e\" % (f, model.coef_[i])"
   ]
  },
  {
   "cell_type": "code",
   "execution_count": 125,
   "metadata": {
    "collapsed": false
   },
   "outputs": [
    {
     "name": "stdout",
     "output_type": "stream",
     "text": [
      "Intercept: -6.907573e+07\n",
      "sqft_living: 3.122586e+02\n",
      "bedrooms: -5.958653e+04\n",
      "bathrooms: 1.570674e+04\n",
      "lat: 6.586193e+05\n",
      "long: -3.093744e+05\n"
     ]
    }
   ],
   "source": [
    "# Model 1\n",
    "present_coeff(features1, model1)"
   ]
  },
  {
   "cell_type": "code",
   "execution_count": 126,
   "metadata": {
    "collapsed": false
   },
   "outputs": [
    {
     "name": "stdout",
     "output_type": "stream",
     "text": [
      "Intercept: -6.686797e+07\n",
      "sqft_living: 3.066101e+02\n",
      "bedrooms: -1.134464e+05\n",
      "bathrooms: -7.146131e+04\n",
      "lat: 6.548446e+05\n",
      "long: -2.942990e+05\n",
      "bed_bath_rooms: 2.557965e+04\n"
     ]
    }
   ],
   "source": [
    "# Model 2\n",
    "present_coeff(features2, model2)"
   ]
  },
  {
   "cell_type": "code",
   "execution_count": 127,
   "metadata": {
    "collapsed": false
   },
   "outputs": [
    {
     "name": "stdout",
     "output_type": "stream",
     "text": [
      "Intercept: -6.203608e+07\n",
      "sqft_living: 5.294228e+02\n",
      "bedrooms: 3.451423e+04\n",
      "bathrooms: 6.706078e+04\n",
      "lat: 5.340856e+05\n",
      "long: -4.067507e+05\n",
      "bed_bath_rooms: -8.570504e+03\n",
      "bedrooms_squared: -6.788587e+03\n",
      "log_sqft_living: -5.618315e+05\n",
      "lat_plus_long: 1.273349e+05\n"
     ]
    }
   ],
   "source": [
    "# Model 3\n",
    "present_coeff(features3, model3)"
   ]
  },
  {
   "cell_type": "markdown",
   "metadata": {},
   "source": [
    "# Calcualte the RSS"
   ]
  },
  {
   "cell_type": "code",
   "execution_count": 129,
   "metadata": {
    "collapsed": true
   },
   "outputs": [],
   "source": [
    "def rss(predicted, actual):\n",
    "    \"\"\"\n",
    "    Calculate the residual sum of squares between the actual\n",
    "    data and what is predicted.\n",
    "    \"\"\"\n",
    "    return np.sum((predicted-actual)**2)"
   ]
  },
  {
   "cell_type": "markdown",
   "metadata": {},
   "source": [
    "### Training data"
   ]
  },
  {
   "cell_type": "code",
   "execution_count": 130,
   "metadata": {
    "collapsed": false
   },
   "outputs": [
    {
     "name": "stdout",
     "output_type": "stream",
     "text": [
      "Model 1 rss: 9.678800e+14\n",
      "Model 2 rss: 9.584196e+14\n",
      "Model 3 rss: 9.034365e+14\n"
     ]
    }
   ],
   "source": [
    "# Predict the price for using each model\n",
    "pred1 = model1.predict(data_train[features1])\n",
    "pred2 = model2.predict(data_train[features2])\n",
    "pred3 = model3.predict(data_train[features3])\n",
    "\n",
    "print \"Model 1 rss: %e\" % rss(pred1, data_train.price)\n",
    "print \"Model 2 rss: %e\" % rss(pred2, data_train.price)\n",
    "print \"Model 3 rss: %e\" % rss(pred3, data_train.price)"
   ]
  },
  {
   "cell_type": "markdown",
   "metadata": {},
   "source": [
    "Model 3 has lowest RSS on the training data. The model has the most number of features."
   ]
  },
  {
   "cell_type": "markdown",
   "metadata": {},
   "source": [
    "## Testing data"
   ]
  },
  {
   "cell_type": "code",
   "execution_count": 131,
   "metadata": {
    "collapsed": false
   },
   "outputs": [
    {
     "name": "stdout",
     "output_type": "stream",
     "text": [
      "Model 1 rss: 2.255005e+14\n",
      "Model 2 rss: 2.233775e+14\n",
      "Model 3 rss: 2.592363e+14\n"
     ]
    }
   ],
   "source": [
    "# Predict the price for using each model\n",
    "pred1 = model1.predict(data_test[features1])\n",
    "pred2 = model2.predict(data_test[features2])\n",
    "pred3 = model3.predict(data_test[features3])\n",
    "\n",
    "print \"Model 1 rss: %e\" % rss(pred1, data_test.price)\n",
    "print \"Model 2 rss: %e\" % rss(pred2, data_test.price)\n",
    "print \"Model 3 rss: %e\" % rss(pred3, data_test.price)"
   ]
  },
  {
   "cell_type": "markdown",
   "metadata": {},
   "source": [
    "However, on the testing data, it i model 2, which has the lowest RSS."
   ]
  }
 ],
 "metadata": {
  "kernelspec": {
   "display_name": "Python [Root]",
   "language": "python",
   "name": "Python [Root]"
  },
  "language_info": {
   "codemirror_mode": {
    "name": "ipython",
    "version": 2
   },
   "file_extension": ".py",
   "mimetype": "text/x-python",
   "name": "python",
   "nbconvert_exporter": "python",
   "pygments_lexer": "ipython2",
   "version": "2.7.12"
  }
 },
 "nbformat": 4,
 "nbformat_minor": 0
}
