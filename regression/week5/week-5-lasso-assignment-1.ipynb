{
 "cells": [
  {
   "cell_type": "code",
   "execution_count": 1,
   "metadata": {
    "collapsed": true
   },
   "outputs": [],
   "source": [
    "import graphlab as gl\n",
    "import numpy as np\n",
    "import matplotlib.pyplot as plt\n",
    "%matplotlib inline"
   ]
  },
  {
   "cell_type": "code",
   "execution_count": 2,
   "metadata": {
    "collapsed": false
   },
   "outputs": [
    {
     "name": "stderr",
     "output_type": "stream",
     "text": [
      "[INFO] graphlab.cython.cy_server: GraphLab Create v2.1 started. Logging: C:\\Users\\emirl\\AppData\\Local\\Temp\\graphlab_server_1479111163.log.0\n"
     ]
    },
    {
     "name": "stdout",
     "output_type": "stream",
     "text": [
      "This non-commercial license of GraphLab Create for academic use is assigned to emir.lej@gmail.com and will expire on September 20, 2017.\n"
     ]
    }
   ],
   "source": [
    "# Read in data\n",
    "sales = gl.SFrame('./data/kc_house_data.gl/')"
   ]
  },
  {
   "cell_type": "markdown",
   "metadata": {},
   "source": [
    "# Create new features\n"
   ]
  },
  {
   "cell_type": "code",
   "execution_count": 3,
   "metadata": {
    "collapsed": true
   },
   "outputs": [],
   "source": [
    "sales['sqft_living_sqrt'] = sales['sqft_living'].apply(np.sqrt)\n",
    "sales['sqft_lot_sqrt'] = sales['sqft_lot'].apply(np.sqrt)\n",
    "sales['bedrooms_square'] = sales['bedrooms'].apply(lambda x: x**2)\n",
    "\n",
    "# Need to change the floors type\n",
    "sales['floors'] = sales['floors'].astype(float)\n",
    "# Then we can convert\n",
    "sales['floors_square'] = sales['floors'].apply(lambda x: x**2)"
   ]
  },
  {
   "cell_type": "markdown",
   "metadata": {},
   "source": [
    "- Squaring bedrooms will increase the separation between not many bedrooms (e.g. 1) and lots of bedrooms (e.g. 4) since 1^2 = 1 but 4^2 = 16. Consequently this variable will mostly affect houses with many bedrooms.\n",
    "\n",
    "\n",
    "- On the other hand, taking square root of sqft_living will decrease the separation between big house and small house. The owner may not be exactly twice as happy for getting a house that is twice as big."
   ]
  },
  {
   "cell_type": "markdown",
   "metadata": {},
   "source": [
    "# Learn regression weights with L1 penalty"
   ]
  },
  {
   "cell_type": "code",
   "execution_count": 4,
   "metadata": {
    "collapsed": false
   },
   "outputs": [],
   "source": [
    "# Fit a model using all features\n",
    "all_features = ['bedrooms', 'bedrooms_square',\n",
    "                'bathrooms',\n",
    "                'sqft_living', 'sqft_living_sqrt',\n",
    "                'sqft_lot', 'sqft_lot_sqrt',\n",
    "                'floors', 'floors_square',\n",
    "                'waterfront', 'view', 'condition', 'grade',\n",
    "                'sqft_above',\n",
    "                'sqft_basement',\n",
    "                'yr_built', 'yr_renovated']"
   ]
  },
  {
   "cell_type": "markdown",
   "metadata": {},
   "source": [
    "Applying L1 penalty requires adding an extra parameter (l1_penalty) to the linear regression call in GraphLab Create. (Other tools may have separate implementations of LASSO.) Note that it's important to set l2_penalty=0 to ensure we don't introduce an additional L2 penalty."
   ]
  },
  {
   "cell_type": "code",
   "execution_count": 5,
   "metadata": {
    "collapsed": true
   },
   "outputs": [],
   "source": [
    "def create_lasso_model(sframe, features, target, l1_penalty):\n",
    "    \"\"\"\n",
    "    Set up a lasso model using graphlab.\n",
    "    \"\"\"\n",
    "    model = gl.linear_regression.create(sframe, target=target, features=features, validation_set=None,\n",
    "                                        l2_penalty=0., l1_penalty=l1_penalty, verbose=False)    \n",
    "    return model   "
   ]
  },
  {
   "cell_type": "code",
   "execution_count": 6,
   "metadata": {
    "collapsed": false
   },
   "outputs": [],
   "source": [
    "model_all = create_lasso_model(sales, all_features, target='price', l1_penalty=1e10)"
   ]
  },
  {
   "cell_type": "markdown",
   "metadata": {},
   "source": [
    "Note that a majority of the weights have been set to zero. So by setting an L1 penalty that's large enough, we are performing a subset selection.\n",
    "\n",
    "**QUIZ QUESTION**: According to this list of weights, which of the features have been chosen?\n"
   ]
  },
  {
   "cell_type": "code",
   "execution_count": 7,
   "metadata": {
    "collapsed": false
   },
   "outputs": [
    {
     "name": "stdout",
     "output_type": "stream",
     "text": [
      "+------------------+-------+---------------+--------+\n",
      "|       name       | index |     value     | stderr |\n",
      "+------------------+-------+---------------+--------+\n",
      "|   (intercept)    |  None |  274873.05595 |  None  |\n",
      "|    bathrooms     |  None | 8468.53108691 |  None  |\n",
      "|   sqft_living    |  None | 24.4207209824 |  None  |\n",
      "| sqft_living_sqrt |  None | 350.060553386 |  None  |\n",
      "|      grade       |  None | 842.068034898 |  None  |\n",
      "|    sqft_above    |  None | 20.0247224171 |  None  |\n",
      "+------------------+-------+---------------+--------+\n",
      "[? rows x 4 columns]\n",
      "Note: Only the head of the SFrame is printed. This SFrame is lazily evaluated.\n",
      "You can use sf.materialize() to force materialization.\n"
     ]
    }
   ],
   "source": [
    "# Print all coefficients larger than 1\n",
    "print model_all.coefficients[model_all.coefficients['value'] != 0]                                  "
   ]
  },
  {
   "cell_type": "markdown",
   "metadata": {},
   "source": [
    "# Selecting a L1 penalty\n",
    "\n",
    "To find a good L1 penalty, we will explore multiple values using a validation set. Let us do three way split into train, validation, and test sets:\n",
    "\n",
    "- Split our sales data into 2 sets: training and test\n",
    "- Further split our training data into two sets: train, validation\n",
    "\n",
    "\n",
    "Be very careful that you use seed = 1 to ensure you get the same answer!"
   ]
  },
  {
   "cell_type": "code",
   "execution_count": 8,
   "metadata": {
    "collapsed": true
   },
   "outputs": [],
   "source": [
    "(training_and_validation, testing) = sales.random_split(0.9, seed=1) # Initial train/test split\n",
    "(training, validation) = training_and_validation.random_split(0.5, seed=1)"
   ]
  },
  {
   "cell_type": "markdown",
   "metadata": {},
   "source": [
    "Next, we write a loop that does the following:\n",
    "- For l1_penalty in [10^1, 10^1.5, 10^2, 10^2.5, ..., 10^7] (to get this in Python, type np.logspace(1, 7, num=13).)\n",
    "    - Fit a regression model with a given l1_penalty on TRAIN data. Specify l1_penalty=l1_penalty and l2_penalty=0. in the parameter list.\n",
    "    - Compute the RSS on VALIDATION data (here you will want to use .predict()) for that l1_penalty.\n",
    "    - Report which l1_penalty produced the lowest RSS on validation data.\n",
    "    \n",
    "When you call linear_regression.create() make sure you set validation_set = None.\n",
    "\n",
    "Note: you can turn off the print out of linear_regression.create() with verbose = False\n"
   ]
  },
  {
   "cell_type": "code",
   "execution_count": 9,
   "metadata": {
    "collapsed": true
   },
   "outputs": [],
   "source": [
    "def calc_rss(predicted, output):\n",
    "    \"\"\"\n",
    "    Calculate the residual sum of squares using the predicted data\n",
    "    and the actual output.\n",
    "    \"\"\"\n",
    "    rss = ((predicted - output)**2).sum()\n",
    "    return rss"
   ]
  },
  {
   "cell_type": "code",
   "execution_count": 10,
   "metadata": {
    "collapsed": false
   },
   "outputs": [],
   "source": [
    "plot_data = [] # List to be used for plotting purposes\n",
    "\n",
    "for l1_penalty in np.logspace(1, 7, num=13):\n",
    "    # Fit model on train data\n",
    "    model = create_lasso_model(training, features=all_features, target='price', l1_penalty=l1_penalty)\n",
    "    # Predict using the validation data\n",
    "    predicted = model.predict(validation[all_features])\n",
    "    # Calculate the rss\n",
    "    rss = calc_rss(predicted, validation['price'])\n",
    "    # Store data to be plotted\n",
    "    plot_data.append((l1_penalty, rss))"
   ]
  },
  {
   "cell_type": "code",
   "execution_count": 11,
   "metadata": {
    "collapsed": false
   },
   "outputs": [
    {
     "name": "stdout",
     "output_type": "stream",
     "text": [
      "(10.0, 625766285142459.9)\n"
     ]
    }
   ],
   "source": [
    "minrss = min([rss for _, rss in plot_data]) # Get the minimum value of rss\n",
    "# Find the corresponding (l1, rss) tuple\n",
    "for x in plot_data:\n",
    "    if x[-1] == minrss:\n",
    "        print x"
   ]
  },
  {
   "cell_type": "code",
   "execution_count": 12,
   "metadata": {
    "collapsed": false
   },
   "outputs": [
    {
     "data": {
      "text/plain": [
       "<matplotlib.text.Text at 0x15a62c50>"
      ]
     },
     "execution_count": 12,
     "metadata": {},
     "output_type": "execute_result"
    },
    {
     "data": {
      "image/png": "[encoded data removed]",
      "text/plain": [
       "<matplotlib.figure.Figure at 0x15654748>"
      ]
     },
     "metadata": {},
     "output_type": "display_data"
    }
   ],
   "source": [
    "plt.plot(*zip(*plot_data))\n",
    "plt.xscale('log')\n",
    "plt.xlabel('l1_penalty')\n",
    "plt.ylabel('rss')"
   ]
  },
  {
   "cell_type": "markdown",
   "metadata": {},
   "source": [
    "**QUIZ QUESTION**. What was the best value for the l1_penalty? \n",
    "- Answer: 10.0\n",
    "\n",
    "\n"
   ]
  },
  {
   "cell_type": "markdown",
   "metadata": {},
   "source": [
    "**QUIZ QUESTION** Also, using this value of L1 penalty, how many nonzero weights do you have?"
   ]
  },
  {
   "cell_type": "code",
   "execution_count": 13,
   "metadata": {
    "collapsed": false
   },
   "outputs": [
    {
     "data": {
      "text/plain": [
       "18"
      ]
     },
     "execution_count": 13,
     "metadata": {},
     "output_type": "execute_result"
    }
   ],
   "source": [
    "model = create_lasso_model(training, features=all_features, target='price', l1_penalty=10.)\n",
    "model.coefficients['value'].nnz() # Number of non-zero coefficients"
   ]
  },
  {
   "cell_type": "markdown",
   "metadata": {},
   "source": [
    "# Limit the number of nonzero weights\n",
    "\n",
    "What if we absolutely wanted to limit ourselves to, say, 7 features? This may be important if we want to derive \"a rule of thumb\" --- an interpretable model that has only a few features in them.\n",
    "\n",
    "In this section, you are going to implement a simple, two phase procedure to achive this goal:\n",
    "\n",
    "1. Explore a large range of l1_penalty values to find a narrow region of l1_penalty values where models are likely to have the desired number of non-zero weights.\n",
    "\n",
    "2. Further explore the narrow region you found to find a good value for l1_penalty that achieves the desired sparsity. Here, we will again use a validation set to choose the best value for l1_penalty."
   ]
  },
  {
   "cell_type": "code",
   "execution_count": 14,
   "metadata": {
    "collapsed": true
   },
   "outputs": [],
   "source": [
    "max_nonzeros = 7"
   ]
  },
  {
   "cell_type": "markdown",
   "metadata": {},
   "source": [
    "# Exploring the larger range of values to find a narrow range with the desired sparsity\n",
    "\n",
    "Now, implement a loop that search through this space of possible l1_penalty values:\n",
    "\n",
    "- For l1_penalty in np.logspace(8, 10, num=20):\n",
    "    - Fit a regression model with a given l1_penalty on TRAIN data. Specify l1_penalty=l1_penalty and l2_penalty=0. in the parameter list. When you call linear_regression.create() make sure you set validation_set = None\n",
    "    - Extract the weights of the model and count the number of nonzeros. Save the number of nonzeros to a list.\n",
    "    \n",
    "**Hint:**\n",
    "\n",
    "\n",
    "```python\n",
    "model['coefficients']['value']\n",
    "\n",
    "```\n",
    "gives you an SArray with the parameters you learned. If you call the method .nnz() on it, you will find the number of non-zero parameters!\n",
    "\n",
    "\n",
    "\n",
    "Let's define a wide range of possible l1_penalty_values:"
   ]
  },
  {
   "cell_type": "code",
   "execution_count": 15,
   "metadata": {
    "collapsed": false
   },
   "outputs": [],
   "source": [
    "l1_penalty_values = np.logspace(8, 10, 20)\n",
    "nnz_list = []\n",
    "\n",
    "for l1_penalty in l1_penalty_values:\n",
    "    # Fit the model\n",
    "    model = create_lasso_model(training, features=all_features, target='price', l1_penalty=l1_penalty)\n",
    "    # Extract the number of non-zero coefficients\n",
    "    nnz = model['coefficients']['value'].nnz()   \n",
    "    # Append to the list\n",
    "    nnz_list.append(nnz)   "
   ]
  },
  {
   "cell_type": "code",
   "execution_count": 16,
   "metadata": {
    "collapsed": false
   },
   "outputs": [
    {
     "data": {
      "text/plain": [
       "array([18, 18, 18, 18, 17, 17, 17, 17, 17, 16, 15, 15, 13, 12, 10,  6,  5,\n",
       "        3,  1,  1])"
      ]
     },
     "execution_count": 16,
     "metadata": {},
     "output_type": "execute_result"
    }
   ],
   "source": [
    "nnz_list = np.array(nnz_list)\n",
    "nnz_list\n",
    "#l1_penalty_values"
   ]
  },
  {
   "cell_type": "code",
   "execution_count": 17,
   "metadata": {
    "collapsed": false
   },
   "outputs": [
    {
     "name": "stdout",
     "output_type": "stream",
     "text": [
      "15\n"
     ]
    }
   ],
   "source": [
    "# Fint the min and max L1_values\n",
    "for i, x in enumerate(nnz_list > max_nonzeros):\n",
    "    if x == False:\n",
    "        print i\n",
    "        l1_penalty_min = l1_penalty_values[i - 1]\n",
    "        l1_penalty_max = l1_penalty_values[i]        \n",
    "        break"
   ]
  },
  {
   "cell_type": "markdown",
   "metadata": {},
   "source": [
    "**QUIZ QUESTION.** What values did you find for l1_penalty_min and l1_penalty_max, respectively?\n"
   ]
  },
  {
   "cell_type": "code",
   "execution_count": 18,
   "metadata": {
    "collapsed": false
   },
   "outputs": [
    {
     "name": "stdout",
     "output_type": "stream",
     "text": [
      "2976351441.63\n",
      "3792690190.73\n"
     ]
    }
   ],
   "source": [
    "print l1_penalty_min\n",
    "print l1_penalty_max"
   ]
  },
  {
   "cell_type": "markdown",
   "metadata": {},
   "source": [
    "# Exploring the narrow range of values to find the solution with the right number of non-zeros that has lowest RSS on the validation set\n",
    "\n",
    "We will now explore the narrow region of l1_penalty values we found:\n",
    "\n",
    "- For l1_penalty in np.linspace(l1_penalty_min,l1_penalty_max,20):\n",
    "    - Fit a regression model with a given l1_penalty on TRAIN data. Specify l1_penalty=l1_penalty and l2_penalty=0. in the parameter list. When you call linear_regression.create() make sure you set validation_set = None\n",
    "    - Measure the RSS of the learned model on the VALIDATION set\n",
    "    - Find the model that the lowest RSS on the VALIDATION set and has sparsity equal to max_nonzeros."
   ]
  },
  {
   "cell_type": "code",
   "execution_count": 19,
   "metadata": {
    "collapsed": false
   },
   "outputs": [
    {
     "name": "stdout",
     "output_type": "stream",
     "text": [
      "2976351441.63\n",
      "3792690190.73\n"
     ]
    }
   ],
   "source": [
    "print l1_penalty_min\n",
    "print l1_penalty_max"
   ]
  },
  {
   "cell_type": "code",
   "execution_count": 20,
   "metadata": {
    "collapsed": false
   },
   "outputs": [],
   "source": [
    "rss_list = []\n",
    "nnz_list = []\n",
    "l1_list = []\n",
    "\n",
    "l1_penalty_values = np.linspace(l1_penalty_min, l1_penalty_max, 20)\n",
    "\n",
    "for l1_penalty in l1_penalty_values:\n",
    "        \n",
    "    # Fit the model\n",
    "    model = create_lasso_model(training, all_features, target='price', l1_penalty=l1_penalty)\n",
    "    \n",
    "    # Nonzero coefficients\n",
    "    nnz = model['coefficients']['value'].nnz()\n",
    "    \n",
    "    nnz_list.append(nnz)\n",
    "    \n",
    "    # Predict output\n",
    "    predicted = model.predict(validation)\n",
    "    \n",
    "    # Calculate the rss\n",
    "    rss = calc_rss(predicted, validation['price'])\n",
    "    rss_list.append(rss)\n",
    "    \n",
    "    # Store the l1_penalty\n",
    "    l1_list.append(l1_penalty)"
   ]
  },
  {
   "cell_type": "code",
   "execution_count": 21,
   "metadata": {
    "collapsed": false
   },
   "outputs": [
    {
     "data": {
      "text/html": [
       "<div style=\"max-height:1000px;max-width:1500px;overflow:auto;\"><table frame=\"box\" rules=\"cols\">\n",
       "    <tr>\n",
       "        <th style=\"padding-left: 1em; padding-right: 1em; text-align: center\">l1_penalty</th>\n",
       "        <th style=\"padding-left: 1em; padding-right: 1em; text-align: center\">nnz</th>\n",
       "        <th style=\"padding-left: 1em; padding-right: 1em; text-align: center\">rss</th>\n",
       "    </tr>\n",
       "    <tr>\n",
       "        <td style=\"padding-left: 1em; padding-right: 1em; text-align: center; vertical-align: top\">3448968612.16</td>\n",
       "        <td style=\"padding-left: 1em; padding-right: 1em; text-align: center; vertical-align: top\">7</td>\n",
       "        <td style=\"padding-left: 1em; padding-right: 1em; text-align: center; vertical-align: top\">1.04693748875e+15</td>\n",
       "    </tr>\n",
       "    <tr>\n",
       "        <td style=\"padding-left: 1em; padding-right: 1em; text-align: center; vertical-align: top\">3491933809.48</td>\n",
       "        <td style=\"padding-left: 1em; padding-right: 1em; text-align: center; vertical-align: top\">7</td>\n",
       "        <td style=\"padding-left: 1em; padding-right: 1em; text-align: center; vertical-align: top\">1.05114762561e+15</td>\n",
       "    </tr>\n",
       "    <tr>\n",
       "        <td style=\"padding-left: 1em; padding-right: 1em; text-align: center; vertical-align: top\">3534899006.81</td>\n",
       "        <td style=\"padding-left: 1em; padding-right: 1em; text-align: center; vertical-align: top\">7</td>\n",
       "        <td style=\"padding-left: 1em; padding-right: 1em; text-align: center; vertical-align: top\">1.05599273534e+15</td>\n",
       "    </tr>\n",
       "    <tr>\n",
       "        <td style=\"padding-left: 1em; padding-right: 1em; text-align: center; vertical-align: top\">3577864204.13</td>\n",
       "        <td style=\"padding-left: 1em; padding-right: 1em; text-align: center; vertical-align: top\">7</td>\n",
       "        <td style=\"padding-left: 1em; padding-right: 1em; text-align: center; vertical-align: top\">1.06079953176e+15</td>\n",
       "    </tr>\n",
       "</table>\n",
       "[4 rows x 3 columns]<br/>\n",
       "</div>"
      ],
      "text/plain": [
       "Columns:\n",
       "\tl1_penalty\tfloat\n",
       "\tnnz\tint\n",
       "\trss\tfloat\n",
       "\n",
       "Rows: 4\n",
       "\n",
       "Data:\n",
       "+---------------+-----+-------------------+\n",
       "|   l1_penalty  | nnz |        rss        |\n",
       "+---------------+-----+-------------------+\n",
       "| 3448968612.16 |  7  | 1.04693748875e+15 |\n",
       "| 3491933809.48 |  7  | 1.05114762561e+15 |\n",
       "| 3534899006.81 |  7  | 1.05599273534e+15 |\n",
       "| 3577864204.13 |  7  | 1.06079953176e+15 |\n",
       "+---------------+-----+-------------------+\n",
       "[4 rows x 3 columns]"
      ]
     },
     "execution_count": 21,
     "metadata": {},
     "output_type": "execute_result"
    }
   ],
   "source": [
    "# Create a SFrame to find which model has lowest rss and sparsity equal to max_nonzeros\n",
    "data = gl.SFrame({\"l1_penalty\": l1_list, \n",
    "                  \"rss\" : rss_list, \n",
    "                  \"nnz\" : nnz_list})  \n",
    "\n",
    "data[data['nnz'] == 7].sort('rss') # Get sorted from lowest to highest"
   ]
  }
 ],
 "metadata": {
  "anaconda-cloud": {},
  "kernelspec": {
   "display_name": "Python [gl-env]",
   "language": "python",
   "name": "Python [gl-env]"
  },
  "language_info": {
   "codemirror_mode": {
    "name": "ipython",
    "version": 2
   },
   "file_extension": ".py",
   "mimetype": "text/x-python",
   "name": "python",
   "nbconvert_exporter": "python",
   "pygments_lexer": "ipython2",
   "version": "2.7.11"
  }
 },
 "nbformat": 4,
 "nbformat_minor": 0
}
