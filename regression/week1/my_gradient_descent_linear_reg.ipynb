{
 "cells": [
  {
   "cell_type": "markdown",
   "metadata": {},
   "source": [
    "Here, I am writing my own gradient descent algorithm on a linear reg. problem to learn how the algorithm works. "
   ]
  },
  {
   "cell_type": "code",
   "execution_count": 3,
   "metadata": {
    "collapsed": true
   },
   "outputs": [],
   "source": [
    "import numpy as np\n",
    "import matplotlib.pylab as plt\n",
    "%matplotlib inline\n",
    "\n",
    "from __future__ import division"
   ]
  },
  {
   "cell_type": "code",
   "execution_count": 4,
   "metadata": {
    "collapsed": false
   },
   "outputs": [],
   "source": [
    "x = np.array([0, 1, 2, 3, 4])\n",
    "y = np.array([1, 3, 7, 13, 21])"
   ]
  },
  {
   "cell_type": "code",
   "execution_count": 5,
   "metadata": {
    "collapsed": false
   },
   "outputs": [
    {
     "data": {
      "text/plain": [
       "<matplotlib.collections.PathCollection at 0x73fecc0>"
      ]
     },
     "execution_count": 5,
     "metadata": {},
     "output_type": "execute_result"
    },
    {
     "data": {
      "image/png": "[encoded data removed]",
      "text/plain": [
       "<matplotlib.figure.Figure at 0x72f6f28>"
      ]
     },
     "metadata": {},
     "output_type": "display_data"
    }
   ],
   "source": [
    "plt.scatter(x, y)"
   ]
  },
  {
   "cell_type": "markdown",
   "metadata": {},
   "source": [
    "# Linear regression - gradient descent\n",
    "\n",
    "$$w_0 = -2 \\sum_{i=1}^{N} [y_i - (w_0 + w_1x_i) ]$$\n",
    "\n",
    "$$w_1 = -2 \\sum_{i=1}^{N} [y_i - (w_0 + w_1x_i)]\\cdot x_i $$\n",
    "\n",
    "where $(w_0 + w_1x_i) = \\hat{y}_i$"
   ]
  },
  {
   "cell_type": "code",
   "execution_count": 8,
   "metadata": {
    "collapsed": false
   },
   "outputs": [],
   "source": [
    "def gradient_w0(w0, w1, xi, yi):\n",
    "    return(yi - (w0 + w1*xi))\n",
    "\n",
    "def gradient_w1(w0, w1, xi, yi):\n",
    "    return(gradient_w0(w0, w1, xi, yi)*xi)\n",
    "\n",
    "def linear_regression_gradient_descent(w0, w1, x, y, eta=0.05):\n",
    "    counter = 0\n",
    "    error = 1\n",
    "    n = len(x)\n",
    "    \n",
    "    while error > 1.0E-6:\n",
    "    \n",
    "        tmp0 = w0 + (2/n)*eta*sum(gradient_w0(w0, w1, xi, yi) for xi, yi in zip(x, y))\n",
    "        tmp1 = w1 + (2/n)*eta*sum(gradient_w1(w0, w1, xi, yi) for xi, yi in zip(x, y))\n",
    "    \n",
    "        err1 = np.fabs(tmp0 - w0)\n",
    "        err2 = np.fabs(tmp1 - w1)\n",
    "    \n",
    "        error = np.sqrt(err1**2 + err2**2)\n",
    "            \n",
    "        # Update the values\n",
    "        w0 = tmp0\n",
    "        w1 = tmp1\n",
    "        \n",
    "        counter += 1\n",
    "        \n",
    "        # If the algo. does not converge\n",
    "        if counter == 10000:\n",
    "            raise RuntimeError(\"while loop exited without converging...\")\n",
    "            break\n",
    "            \n",
    "    print \"No. iterations: %i\" % counter\n",
    "    print \"w0: %g\" % w0\n",
    "    print \"w1: %g\" % w1 "
   ]
  },
  {
   "cell_type": "code",
   "execution_count": 9,
   "metadata": {
    "collapsed": false
   },
   "outputs": [
    {
     "name": "stdout",
     "output_type": "stream",
     "text": [
      "No. iterations: 373\n",
      "w0: -0.99997\n",
      "w1: 4.99999\n"
     ]
    }
   ],
   "source": [
    "# Find the coefficients\n",
    "linear_regression_gradient_descent(w0=0, \n",
    "                                   w1=0,\n",
    "                                   x=x,\n",
    "                                   y=y,\n",
    "                                   eta=0.05)"
   ]
  }
 ],
 "metadata": {
  "anaconda-cloud": {},
  "kernelspec": {
   "display_name": "Python [Root]",
   "language": "python",
   "name": "Python [Root]"
  },
  "language_info": {
   "codemirror_mode": {
    "name": "ipython",
    "version": 2
   },
   "file_extension": ".py",
   "mimetype": "text/x-python",
   "name": "python",
   "nbconvert_exporter": "python",
   "pygments_lexer": "ipython2",
   "version": "2.7.12"
  }
 },
 "nbformat": 4,
 "nbformat_minor": 0
}
