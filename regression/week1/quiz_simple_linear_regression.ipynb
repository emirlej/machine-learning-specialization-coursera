{
 "cells": [
  {
   "cell_type": "code",
   "execution_count": 1,
   "metadata": {
    "collapsed": true
   },
   "outputs": [],
   "source": [
    "from __future__ import division\n",
    "import numpy as np"
   ]
  },
  {
   "cell_type": "markdown",
   "metadata": {},
   "source": [
    "# Q4\n",
    "You have a data set consisting of the sales prices of houses in your neighborhood, with each sale time-stamped by the month and year in which the house sold. You want to predict the average value of houses in your neighborhood over time, so you fit a simple regression model with average house price as the output and the time index (in months) as the input. Based on 10 months of data, the estimated intercept is \\$4569 and the estimated slope is 143 ($/month). If you extrapolate this trend forward in time, at which time index (in months) do you predict that your neighborhood's value will have doubled relative to the value at month 10? (Round to the nearest month)."
   ]
  },
  {
   "cell_type": "code",
   "execution_count": 2,
   "metadata": {
    "collapsed": true
   },
   "outputs": [],
   "source": [
    "def y(x):\n",
    "    return(4569. + 143. * x)"
   ]
  },
  {
   "cell_type": "code",
   "execution_count": 3,
   "metadata": {
    "collapsed": false
   },
   "outputs": [
    {
     "name": "stdout",
     "output_type": "stream",
     "text": [
      "52\n"
     ]
    }
   ],
   "source": [
    "# Find the number\n",
    "for month in range(100):\n",
    "    if y(month) >= 2 * y(10):\n",
    "        print month\n",
    "        break"
   ]
  },
  {
   "cell_type": "markdown",
   "metadata": {},
   "source": [
    "# Gradient descent algorithm - linear regression"
   ]
  },
  {
   "cell_type": "code",
   "execution_count": 4,
   "metadata": {
    "collapsed": true
   },
   "outputs": [],
   "source": [
    "def gradient_w0(w0, w1, xi, yi):\n",
    "    return(yi - (w0 + w1*xi))\n",
    "\n",
    "def gradient_w1(w0, w1, xi, yi):\n",
    "    return(gradient_w0(w0, w1, xi, yi)*xi)\n",
    "\n",
    "def linear_regression_gradient_descent(w0, w1, x, y, eta=0.05):\n",
    "    counter = 0\n",
    "    error = 1\n",
    "    n = len(x)\n",
    "    \n",
    "    while error > 1.0E-6:\n",
    "    \n",
    "        tmp0 = w0 + (2/n)*eta*sum(gradient_w0(w0, w1, xi, yi) for xi, yi in zip(x, y))\n",
    "        tmp1 = w1 + (2/n)*eta*sum(gradient_w1(w0, w1, xi, yi) for xi, yi in zip(x, y))\n",
    "    \n",
    "        err1 = np.fabs(tmp0 - w0)\n",
    "        err2 = np.fabs(tmp1 - w1)\n",
    "    \n",
    "        error = np.sqrt(err1**2 + err2**2)\n",
    "            \n",
    "        # Update the values\n",
    "        w0 = tmp0\n",
    "        w1 = tmp1\n",
    "        \n",
    "        counter += 1\n",
    "        \n",
    "        # If the algo. does not converge\n",
    "        if counter == 10000:\n",
    "            raise RuntimeError(\"while loop exited without converging...\")\n",
    "            break\n",
    "            \n",
    "    print \"No. iterations: %i\" % counter\n",
    "    print \"w0: %g\" % w0\n",
    "    print \"w1: %g\" % w1 "
   ]
  },
  {
   "cell_type": "markdown",
   "metadata": {},
   "source": [
    "# Q5\n",
    "Your friend in the U.S. gives you a simple regression fit for predicting house prices from square feet. The estimated intercept is -44850 and the estimated slope is 280.76. You believe that your housing market behaves very similarly, but houses are measured in square meters. To make predictions for inputs in square meters, what intercept must you use? Hint: there are 0.092903 square meters in 1 square foot."
   ]
  },
  {
   "cell_type": "code",
   "execution_count": 5,
   "metadata": {
    "collapsed": false
   },
   "outputs": [],
   "source": [
    "square_feet = [0, 1, 2, 3, 4]\n",
    "square_m = [sqf*0.092903 for sqf in square_feet]\n",
    "house_prices = [1, 3, 7, 13, 21]"
   ]
  },
  {
   "cell_type": "code",
   "execution_count": 6,
   "metadata": {
    "collapsed": false
   },
   "outputs": [
    {
     "name": "stdout",
     "output_type": "stream",
     "text": [
      "No. iterations: 373\n",
      "w0: -0.99997\n",
      "w1: 4.99999\n"
     ]
    }
   ],
   "source": [
    "# Linear reg. coeff. for square feet\n",
    "linear_regression_gradient_descent(w0=0, w1=0, x=square_feet, y=house_prices)"
   ]
  },
  {
   "cell_type": "code",
   "execution_count": 7,
   "metadata": {
    "collapsed": false
   },
   "outputs": [
    {
     "name": "stdout",
     "output_type": "stream",
     "text": [
      "No. iterations: 6826\n",
      "w0: -0.999889\n",
      "w1: 53.819\n"
     ]
    }
   ],
   "source": [
    "# Linear reg. coeff. for square m\n",
    "linear_regression_gradient_descent(w0=0, w1=0, x=square_m, y=house_prices, )"
   ]
  },
  {
   "cell_type": "code",
   "execution_count": 8,
   "metadata": {
    "collapsed": false
   },
   "outputs": [
    {
     "data": {
      "text/plain": [
       "0.09290213493375946"
      ]
     },
     "execution_count": 8,
     "metadata": {},
     "output_type": "execute_result"
    }
   ],
   "source": [
    "# Intercept does not change\n",
    "\n",
    "# Slope does change. The ratio is \n",
    "4.9999/53.819"
   ]
  }
 ],
 "metadata": {
  "kernelspec": {
   "display_name": "Python [Root]",
   "language": "python",
   "name": "Python [Root]"
  },
  "language_info": {
   "codemirror_mode": {
    "name": "ipython",
    "version": 2
   },
   "file_extension": ".py",
   "mimetype": "text/x-python",
   "name": "python",
   "nbconvert_exporter": "python",
   "pygments_lexer": "ipython2",
   "version": "2.7.12"
  }
 },
 "nbformat": 4,
 "nbformat_minor": 0
}
